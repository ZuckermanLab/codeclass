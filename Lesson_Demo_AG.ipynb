{
 "cells": [
  {
   "cell_type": "code",
   "execution_count": 1,
   "metadata": {},
   "outputs": [
    {
     "name": "stdout",
     "output_type": "stream",
     "text": [
      "pygame 2.0.1 (SDL 2.0.14, Python 3.6.12)\n",
      "Hello from the pygame community. https://www.pygame.org/contribute.html\n"
     ]
    }
   ],
   "source": [
    "#demo ideas for class - 2021- August George"
   ]
  },
  {
   "cell_type": "code",
   "execution_count": 2,
   "metadata": {},
   "outputs": [
    {
     "name": "stdout",
     "output_type": "stream",
     "text": [
      "Requirement already satisfied: pygame in ./opt/anaconda3/lib/python3.6/site-packages (2.0.1)\r\n"
     ]
    }
   ],
   "source": [
    "### pygame example\n",
    "#!pip install pygame\n",
    "\n",
    "\"\"\"\n",
    "Sample Python/Pygame Programs\n",
    "Simpson College Computer Science\n",
    "http://programarcadegames.com/\n",
    "http://simpson.edu/computer-science/\n",
    "\"\"\"\n",
    "    \n",
    "import pygame\n",
    " \n",
    "# Define some colors\n",
    "BLACK = (0, 0, 0)\n",
    "WHITE = (255, 255, 255)\n",
    "GREEN = (0, 255, 0)\n",
    "RED = (255, 0, 0)\n",
    " \n",
    " \n",
    "def draw_stick_figure(screen, x, y):\n",
    "    # Head\n",
    "    pygame.draw.ellipse(screen, BLACK, [1 + x, y, 10, 10], 0)\n",
    " \n",
    "    # Legs\n",
    "    pygame.draw.line(screen, BLACK, [5 + x, 17 + y], [10 + x, 27 + y], 2)\n",
    "    pygame.draw.line(screen, BLACK, [5 + x, 17 + y], [x, 27 + y], 2)\n",
    " \n",
    "    # Body\n",
    "    pygame.draw.line(screen, RED, [5 + x, 17 + y], [5 + x, 7 + y], 2)\n",
    " \n",
    "    # Arms\n",
    "    pygame.draw.line(screen, RED, [5 + x, 7 + y], [9 + x, 17 + y], 2)\n",
    "    pygame.draw.line(screen, RED, [5 + x, 7 + y], [1 + x, 17 + y], 2)\n",
    " \n",
    "# Setup\n",
    "pygame.init()\n",
    " \n",
    "# Set the width and height of the screen [width,height]\n",
    "size = [700, 500]\n",
    "screen = pygame.display.set_mode(size)\n",
    " \n",
    "pygame.display.set_caption(\"My Game\")\n",
    " \n",
    "# Loop until the user clicks the close button.\n",
    "done = False\n",
    " \n",
    "# Used to manage how fast the screen updates\n",
    "clock = pygame.time.Clock()\n",
    " \n",
    "# Hide the mouse cursor\n",
    "pygame.mouse.set_visible(0)\n",
    " \n",
    "# Speed in pixels per frame\n",
    "x_speed = 0\n",
    "y_speed = 0\n",
    " \n",
    "# Current position\n",
    "x_coord = 10\n",
    "y_coord = 10\n",
    " \n",
    "# -------- Main Program Loop -----------\n",
    "while not done:\n",
    "    # --- Event Processing\n",
    "    for event in pygame.event.get():\n",
    "        if event.type == pygame.QUIT:\n",
    "            done = True\n",
    "            # User pressed down on a key\n",
    " \n",
    "        elif event.type == pygame.KEYDOWN:\n",
    "            # Figure out if it was an arrow key. If so\n",
    "            # adjust speed.\n",
    "            if event.key == pygame.K_LEFT:\n",
    "                x_speed = -3\n",
    "            elif event.key == pygame.K_RIGHT:\n",
    "                x_speed = 3\n",
    "            elif event.key == pygame.K_UP:\n",
    "                y_speed = -3\n",
    "            elif event.key == pygame.K_DOWN:\n",
    "                y_speed = 3\n",
    " \n",
    "        # User let up on a key\n",
    "        elif event.type == pygame.KEYUP:\n",
    "            # If it is an arrow key, reset vector back to zero\n",
    "            if event.key == pygame.K_LEFT or event.key == pygame.K_RIGHT:\n",
    "                x_speed = 0\n",
    "            elif event.key == pygame.K_UP or event.key == pygame.K_DOWN:\n",
    "                y_speed = 0\n",
    " \n",
    "    # --- Game Logic\n",
    " \n",
    "    # Move the object according to the speed vector.\n",
    "    x_coord = x_coord + x_speed\n",
    "    y_coord = y_coord + y_speed\n",
    " \n",
    "    # --- Drawing Code\n",
    " \n",
    "    # First, clear the screen to WHITE. Don't put other drawing commands\n",
    "    # above this, or they will be erased with this command.\n",
    "    screen.fill(WHITE)\n",
    " \n",
    "    draw_stick_figure(screen, x_coord, y_coord)\n",
    " \n",
    " \n",
    "    # Go ahead and update the screen with what we've drawn.\n",
    "    pygame.display.flip()\n",
    " \n",
    "    # Limit frames per second\n",
    "    clock.tick(60)\n",
    " \n",
    "# Close the window and quit.\n",
    "pygame.quit()"
   ]
  },
  {
   "cell_type": "code",
   "execution_count": 3,
   "metadata": {},
   "outputs": [
    {
     "name": "stdout",
     "output_type": "stream",
     "text": [
      "\n",
      "You are standing in a dark room.\n",
      "There is a door to your left and right, which one do you take? (l or r)\n",
      ">l\n",
      "\n",
      "There is a bear here.\n",
      "Behind the bear is another door.\n",
      "The bear is eating tasty honey!\n",
      "What would you do? (1 or 2)\n",
      "1). Take the honey.\n",
      "2). Taunt the bear.\n",
      ">\n",
      "\n",
      "Incorrect input\n",
      "Game Over!\n",
      "\n",
      "Do you want to play again? (y or n)\n",
      ">1\n"
     ]
    }
   ],
   "source": [
    "#ref: https://thecodingpie.com/post/make-your-own-text-based-adventure-game-in-python3\n",
    "\n",
    "# function to ask play again or not\n",
    "def play_again():\n",
    "      print(\"\\nDo you want to play again? (y or n)\")\n",
    "\n",
    "      # convert the player's input to lower_case\n",
    "      answer = input(\">\").lower()\n",
    "\n",
    "      if \"y\" in answer:\n",
    "        # if player typed \"yes\" or \"y\" start the game from the beginning\n",
    "        start()\n",
    "      else:\n",
    "        # if user types anything besides \"yes\" or \"y\", exit() the program\n",
    "        exit()\n",
    "\n",
    "# game_over function accepts an argument called \"reason\"\n",
    "def game_over(reason):\n",
    "    # print the \"reason\" in a new line (\\n)\n",
    "    print(\"\\n\" + reason)\n",
    "    print(\"Game Over!\")\n",
    "    # ask player to play again or not by activating play_again() function\n",
    "    play_again()\n",
    "\n",
    "# diamond room\n",
    "def diamond_room():\n",
    "    # some prompts\n",
    "    print(\"\\nYou are now in a room filled with diamonds!\")\n",
    "    print(\"And there is a door too!\")\n",
    "    print(\"What would you do? (1 or 2)\")\n",
    "    print(\"1). Take some diamonds and go through the door.\")\n",
    "    print(\"2). Just go through the door.\")\n",
    "\n",
    "    # take input()\n",
    "    answer = input(\">\")\n",
    "  \n",
    "    if answer == \"1\":\n",
    "      # the player is dead, call game_over() function with the \"reason\"\n",
    "      game_over(\"They were cursed diamonds! The moment you touched it, the building collapsed, and you die!\")\n",
    "    elif answer == \"2\":\n",
    "      # the player won the game\n",
    "      print(\"\\nNice, you're are an honest man! Congrats you win the game!\")\n",
    "      # activate play_again() function\n",
    "      play_again()\n",
    "    else:\n",
    "      # call game_over() with \"reason\"\n",
    "      game_over(\"Incorrect input\")\n",
    "\n",
    "# monster room\n",
    "def monster_room():\n",
    "    # some prompts\n",
    "    # '\\n' is to print the line in a new line\n",
    "    print(\"\\nNow you entered the room of a monster!\")\n",
    "    print(\"The monster is sleeping.\\nBehind the monster, there is another door. What would you do? (1 or 2)\")\n",
    "    print(\"1). Go through the door silently.\")\n",
    "    print(\"2). Kill the monster and show your courage!\")\n",
    "\n",
    "    # take input()\n",
    "    answer = input(\">\")\n",
    "\n",
    "    if answer == \"1\":\n",
    "      # lead him to the diamond_room()\n",
    "      diamond_room()\n",
    "    elif answer == \"2\":\n",
    "      # the player is dead, call game_over() with \"reason\"\n",
    "      game_over(\"The monster was hungry, he/it ate you.\")\n",
    "    else:\n",
    "      # game_over() with \"reason\"\n",
    "      game_over(\"Incorrect input\")\n",
    "\n",
    "# bear room\n",
    "def bear_room():\n",
    "    # give some prompts\n",
    "    # '\\n' is to print the line in a new line\n",
    "    print(\"\\nThere is a bear here.\")\n",
    "    print(\"Behind the bear is another door.\")\n",
    "    print(\"The bear is eating tasty honey!\")\n",
    "    print(\"What would you do? (1 or 2)\")\n",
    "    print(\"1). Take the honey.\")\n",
    "    print(\"2). Taunt the bear.\")\n",
    "\n",
    "    # take input()\n",
    "    answer = input(\">\")\n",
    "  \n",
    "    if answer == \"1\":\n",
    "      # the player is dead!\n",
    "      game_over(\"The bear killed you.\")\n",
    "    elif answer == \"2\":\n",
    "      # lead him to the diamond_room()\n",
    "      print(\"\\nYour Good time, the bear moved from the door. You can go through it now!\")\n",
    "      diamond_room()\n",
    "    else:\n",
    "      # else call game_over() function with the \"reason\" argument\n",
    "      game_over(\"Incorrect input\")\n",
    "\n",
    "def start():\n",
    "    # give some prompts.\n",
    "    print(\"\\nYou are standing in a dark room.\")\n",
    "    print(\"There is a door to your left and right, which one do you take? (l or r)\")\n",
    "  \n",
    "    # convert the player's input() to lower_case\n",
    "    answer = input(\">\").lower()\n",
    "\n",
    "    if \"l\" in answer:\n",
    "      # if player typed \"left\" or \"l\" lead him to bear_room()\n",
    "      bear_room()\n",
    "    elif \"r\" in answer:\n",
    "      # else if player typed \"right\" or \"r\" lead him to monster_room()\n",
    "      monster_room()\n",
    "    else:\n",
    "      # else call game_over() function with the \"reason\" argument\n",
    "      game_over(\"Don't you know how to type something properly?\")\n",
    "\n",
    "\n",
    "# start the game\n",
    "start()"
   ]
  },
  {
   "cell_type": "code",
   "execution_count": 29,
   "metadata": {},
   "outputs": [
    {
     "name": "stdout",
     "output_type": "stream",
     "text": [
      "Loaded miles_dat.txt containing 128 cities.\n",
      "digraph has 128 nodes with 8128 edges\n"
     ]
    },
    {
     "data": {
      "image/png": "[encoded data removed]",
      "text/plain": [
       "<Figure size 576x576 with 1 Axes>"
      ]
     },
     "metadata": {},
     "output_type": "display_data"
    }
   ],
   "source": [
    "# ref: https://networkx.org/documentation/stable/auto_examples/drawing/plot_knuth_miles.html#sphx-glr-auto-examples-drawing-plot-knuth-miles-py\n",
    "# miles_graph() returns an undirected graph over the 128 US cities from. \n",
    "# The cities each have location and population data. The edges are labeled with the distance between the two cities.\n",
    "\n",
    "# This example is described in Section 1.1 of\n",
    "# Donald E. Knuth, “The Stanford GraphBase: A Platform for Combinatorial Computing”, ACM Press, New York, 1993. \n",
    "# http://www-cs-faculty.stanford.edu/~knuth/sgb.html\n",
    "\n",
    "\n",
    "\n",
    "import gzip\n",
    "import re\n",
    "\n",
    "import matplotlib.pyplot as plt\n",
    "import networkx as nx\n",
    "\n",
    "\n",
    "def miles_graph():\n",
    "    \"\"\" Return the cites example graph in miles_dat.txt\n",
    "        from the Stanford GraphBase.\n",
    "    \"\"\"\n",
    "    # open file miles_dat.txt.gz (or miles_dat.txt)\n",
    "    fname = \"knuth_miles.txt\"\n",
    "    fh = open(f'{fname}', \"r\")\n",
    "\n",
    "    G = nx.Graph()\n",
    "    G.position = {}\n",
    "    G.population = {}\n",
    "\n",
    "    cities = []\n",
    "    for line in fh.readlines():\n",
    "        \n",
    "        if line.startswith(\"*\"):  # skip comments\n",
    "            continue\n",
    "\n",
    "        numfind = re.compile(r\"^\\d+\")\n",
    "\n",
    "        if numfind.match(line):  # this line is distances\n",
    "            dist = line.split()\n",
    "            for d in dist:\n",
    "                G.add_edge(city, cities[i], weight=int(d))\n",
    "                i = i + 1\n",
    "        else:  # this line is a city, position, population\n",
    "            i = 1\n",
    "            (city, coordpop) = line.split(\"[\")\n",
    "            cities.insert(0, city)\n",
    "            (coord, pop) = coordpop.split(\"]\")\n",
    "            (y, x) = coord.split(\",\")\n",
    "\n",
    "            G.add_node(city)\n",
    "            # assign position - flip x axis for matplotlib, shift origin\n",
    "            G.position[city] = (-int(x) + 7500, int(y) - 3000)\n",
    "            G.population[city] = float(pop) / 1000.0\n",
    "    return G\n",
    "\n",
    "\n",
    "G = miles_graph()\n",
    "\n",
    "print(\"Loaded miles_dat.txt containing 128 cities.\")\n",
    "print(f\"digraph has {nx.number_of_nodes(G)} nodes with {nx.number_of_edges(G)} edges\")\n",
    "\n",
    "# make new graph of cites, edge if less then 300 miles between them\n",
    "H = nx.Graph()\n",
    "for v in G:\n",
    "    H.add_node(v)\n",
    "for (u, v, d) in G.edges(data=True):\n",
    "    if d[\"weight\"] < 300:\n",
    "        H.add_edge(u, v)\n",
    "\n",
    "# draw with matplotlib/pylab\n",
    "plt.figure(figsize=(8, 8))\n",
    "# with nodes colored by degree sized by population\n",
    "node_color = [float(H.degree(v)) for v in H]\n",
    "nx.draw(\n",
    "    H,\n",
    "    G.position,\n",
    "    node_size=[G.population[v] for v in H],\n",
    "    node_color=node_color,\n",
    "    with_labels=False,\n",
    ")\n",
    "\n",
    "# scale the axes equally\n",
    "plt.xlim(-5000, 500)\n",
    "plt.ylim(-2000, 3500)\n",
    "plt.title('Connected cities within 300 miles')\n",
    "plt.show()"
   ]
  },
  {
   "cell_type": "code",
   "execution_count": 30,
   "metadata": {},
   "outputs": [
    {
     "name": "stdout",
     "output_type": "stream",
     "text": [
      "Requirement already satisfied: requests in ./opt/anaconda3/lib/python3.6/site-packages (2.25.1)\n",
      "Collecting folium\n",
      "  Downloading folium-0.12.1-py2.py3-none-any.whl (94 kB)\n",
      "\u001b[K     |████████████████████████████████| 94 kB 2.8 MB/s eta 0:00:01\n",
      "\u001b[?25hRequirement already satisfied: jinja2>=2.9 in ./opt/anaconda3/lib/python3.6/site-packages (from folium) (2.11.2)\n",
      "Requirement already satisfied: numpy in ./opt/anaconda3/lib/python3.6/site-packages (from folium) (1.19.3)\n",
      "Collecting branca>=0.3.0\n",
      "  Downloading branca-0.4.2-py3-none-any.whl (24 kB)\n",
      "Requirement already satisfied: MarkupSafe>=0.23 in ./opt/anaconda3/lib/python3.6/site-packages (from jinja2>=2.9->folium) (1.1.1)\n",
      "Requirement already satisfied: chardet<5,>=3.0.2 in ./opt/anaconda3/lib/python3.6/site-packages (from requests) (4.0.0)\n",
      "Requirement already satisfied: idna<3,>=2.5 in ./opt/anaconda3/lib/python3.6/site-packages (from requests) (2.10)\n",
      "Requirement already satisfied: urllib3<1.27,>=1.21.1 in ./opt/anaconda3/lib/python3.6/site-packages (from requests) (1.26.2)\n",
      "Requirement already satisfied: certifi>=2017.4.17 in ./opt/anaconda3/lib/python3.6/site-packages (from requests) (2020.12.5)\n",
      "Installing collected packages: branca, folium\n",
      "Successfully installed branca-0.4.2 folium-0.12.1\n"
     ]
    }
   ],
   "source": [
    "# ref: https://projects.raspberrypi.org/en/projects/mapping-the-weather/3\n",
    "!pip install requests folium\n",
    "\n",
    "from requests import get\n",
    "import json\n",
    "import folium\n",
    "import os\n",
    "import webbrowser\n",
    "import html"
   ]
  },
  {
   "cell_type": "code",
   "execution_count": 35,
   "metadata": {},
   "outputs": [
    {
     "name": "stdout",
     "output_type": "stream",
     "text": [
      "{'weather_stn_id': 255541, 'weather_stn_name': 'Pi Towers Demo', 'weather_stn_lat': 52.213842, 'weather_stn_long': 0.110421}\n"
     ]
    },
    {
     "data": {
      "text/plain": [
       "True"
      ]
     },
     "execution_count": 35,
     "metadata": {},
     "output_type": "execute_result"
    }
   ],
   "source": [
    "url = 'https://apex.oracle.com/pls/apex/raspberrypi/weatherstation/getallstations'\n",
    "stations = get(url).json()\n",
    "print(stations['items'][0])\n",
    "lons = [station['weather_stn_long'] for station in stations['items']]\n",
    "lats = [station['weather_stn_lat'] for station in stations['items']]\n",
    "wsnames = [html.escape(station['weather_stn_name']) for station in stations['items']]\n",
    "map_ws = folium.Map(location=[0,0],zoom_start=2)\n",
    "CWD = os.getcwd()\n",
    "\n",
    "for n in range(len(lons)):\n",
    "    folium.Marker([lats[n],\n",
    "               lons[n]],\n",
    "               icon = folium.Icon(icon = 'cloud', color = 'green'),\n",
    "               popup = wsnames[n]).add_to(map_ws)\n",
    "\n",
    "map_ws.save('wsmap1.html')\n",
    "webbrowser.open_new('file://'+CWD+'/'+'wsmap1.html')\n",
    "\n",
    "    "
   ]
  },
  {
   "cell_type": "code",
   "execution_count": 38,
   "metadata": {},
   "outputs": [
    {
     "name": "stdout",
     "output_type": "stream",
     "text": [
      "Collecting arcgis\n",
      "  Downloading arcgis-1.8.5.post3.tar.gz (3.2 MB)\n",
      "\u001b[K     |████████████████████████████████| 3.2 MB 2.6 MB/s eta 0:00:01\n",
      "\u001b[?25hRequirement already satisfied: six in ./opt/anaconda3/lib/python3.6/site-packages (from arcgis) (1.15.0)\n",
      "Requirement already satisfied: ipywidgets>=7 in ./opt/anaconda3/lib/python3.6/site-packages (from arcgis) (7.5.1)\n",
      "Requirement already satisfied: widgetsnbextension>=3 in ./opt/anaconda3/lib/python3.6/site-packages (from arcgis) (3.5.1)\n",
      "Requirement already satisfied: pandas>=1 in ./opt/anaconda3/lib/python3.6/site-packages (from arcgis) (1.1.5)\n",
      "Requirement already satisfied: numpy>=1.16.2 in ./opt/anaconda3/lib/python3.6/site-packages (from arcgis) (1.19.3)\n",
      "Requirement already satisfied: matplotlib in ./opt/anaconda3/lib/python3.6/site-packages (from arcgis) (3.3.3)\n",
      "Requirement already satisfied: keyring>=19 in ./opt/anaconda3/lib/python3.6/site-packages (from arcgis) (21.6.0)\n",
      "Requirement already satisfied: ujson>=3 in ./opt/anaconda3/lib/python3.6/site-packages (from arcgis) (4.0.1)\n",
      "Requirement already satisfied: jupyterlab in ./opt/anaconda3/lib/python3.6/site-packages (from arcgis) (2.2.6)\n",
      "Requirement already satisfied: requests in ./opt/anaconda3/lib/python3.6/site-packages (from arcgis) (2.25.1)\n",
      "Requirement already satisfied: ipython>=4.0.0 in ./opt/anaconda3/lib/python3.6/site-packages (from ipywidgets>=7->arcgis) (7.16.1)\n",
      "Requirement already satisfied: ipykernel>=4.5.1 in ./opt/anaconda3/lib/python3.6/site-packages (from ipywidgets>=7->arcgis) (5.3.4)\n",
      "Requirement already satisfied: nbformat>=4.2.0 in ./opt/anaconda3/lib/python3.6/site-packages (from ipywidgets>=7->arcgis) (5.0.8)\n",
      "Requirement already satisfied: traitlets>=4.3.1 in ./opt/anaconda3/lib/python3.6/site-packages (from ipywidgets>=7->arcgis) (4.3.3)\n",
      "Requirement already satisfied: jupyter-client in ./opt/anaconda3/lib/python3.6/site-packages (from ipykernel>=4.5.1->ipywidgets>=7->arcgis) (6.1.7)\n",
      "Requirement already satisfied: appnope in ./opt/anaconda3/lib/python3.6/site-packages (from ipykernel>=4.5.1->ipywidgets>=7->arcgis) (0.1.2)\n",
      "Requirement already satisfied: tornado>=4.2 in ./opt/anaconda3/lib/python3.6/site-packages (from ipykernel>=4.5.1->ipywidgets>=7->arcgis) (6.1)\n",
      "Requirement already satisfied: backcall in ./opt/anaconda3/lib/python3.6/site-packages (from ipython>=4.0.0->ipywidgets>=7->arcgis) (0.2.0)\n",
      "Requirement already satisfied: prompt-toolkit!=3.0.0,!=3.0.1,<3.1.0,>=2.0.0 in ./opt/anaconda3/lib/python3.6/site-packages (from ipython>=4.0.0->ipywidgets>=7->arcgis) (3.0.8)\n",
      "Requirement already satisfied: pexpect in ./opt/anaconda3/lib/python3.6/site-packages (from ipython>=4.0.0->ipywidgets>=7->arcgis) (4.8.0)\n",
      "Requirement already satisfied: decorator in ./opt/anaconda3/lib/python3.6/site-packages (from ipython>=4.0.0->ipywidgets>=7->arcgis) (4.4.2)\n",
      "Requirement already satisfied: pygments in ./opt/anaconda3/lib/python3.6/site-packages (from ipython>=4.0.0->ipywidgets>=7->arcgis) (2.7.3)\n",
      "Requirement already satisfied: pickleshare in ./opt/anaconda3/lib/python3.6/site-packages (from ipython>=4.0.0->ipywidgets>=7->arcgis) (0.7.5)\n",
      "Requirement already satisfied: jedi>=0.10 in ./opt/anaconda3/lib/python3.6/site-packages (from ipython>=4.0.0->ipywidgets>=7->arcgis) (0.17.2)\n",
      "Requirement already satisfied: setuptools>=18.5 in ./opt/anaconda3/lib/python3.6/site-packages (from ipython>=4.0.0->ipywidgets>=7->arcgis) (51.0.0.post20201207)\n",
      "Requirement already satisfied: parso<0.8.0,>=0.7.0 in ./opt/anaconda3/lib/python3.6/site-packages (from jedi>=0.10->ipython>=4.0.0->ipywidgets>=7->arcgis) (0.7.0)\n",
      "Requirement already satisfied: importlib-metadata>=1 in ./opt/anaconda3/lib/python3.6/site-packages (from keyring>=19->arcgis) (2.0.0)\n",
      "Requirement already satisfied: zipp>=0.5 in ./opt/anaconda3/lib/python3.6/site-packages (from importlib-metadata>=1->keyring>=19->arcgis) (3.4.0)\n",
      "Requirement already satisfied: jsonschema!=2.5.0,>=2.4 in ./opt/anaconda3/lib/python3.6/site-packages (from nbformat>=4.2.0->ipywidgets>=7->arcgis) (3.2.0)\n",
      "Requirement already satisfied: ipython-genutils in ./opt/anaconda3/lib/python3.6/site-packages (from nbformat>=4.2.0->ipywidgets>=7->arcgis) (0.2.0)\n",
      "Requirement already satisfied: jupyter-core in ./opt/anaconda3/lib/python3.6/site-packages (from nbformat>=4.2.0->ipywidgets>=7->arcgis) (4.7.0)\n",
      "Requirement already satisfied: pyrsistent>=0.14.0 in ./opt/anaconda3/lib/python3.6/site-packages (from jsonschema!=2.5.0,>=2.4->nbformat>=4.2.0->ipywidgets>=7->arcgis) (0.17.3)\n",
      "Requirement already satisfied: attrs>=17.4.0 in ./opt/anaconda3/lib/python3.6/site-packages (from jsonschema!=2.5.0,>=2.4->nbformat>=4.2.0->ipywidgets>=7->arcgis) (20.3.0)\n",
      "Requirement already satisfied: python-dateutil>=2.7.3 in ./opt/anaconda3/lib/python3.6/site-packages (from pandas>=1->arcgis) (2.8.1)\n",
      "Requirement already satisfied: pytz>=2017.2 in ./opt/anaconda3/lib/python3.6/site-packages (from pandas>=1->arcgis) (2020.4)\n",
      "Requirement already satisfied: wcwidth in ./opt/anaconda3/lib/python3.6/site-packages (from prompt-toolkit!=3.0.0,!=3.0.1,<3.1.0,>=2.0.0->ipython>=4.0.0->ipywidgets>=7->arcgis) (0.2.5)\n",
      "Collecting pyshp>=2\n",
      "  Using cached pyshp-2.1.3-py3-none-any.whl\n",
      "Requirement already satisfied: notebook>=4.4.1 in ./opt/anaconda3/lib/python3.6/site-packages (from widgetsnbextension>=3->arcgis) (6.1.5)\n",
      "Requirement already satisfied: pyzmq>=17 in ./opt/anaconda3/lib/python3.6/site-packages (from notebook>=4.4.1->widgetsnbextension>=3->arcgis) (20.0.0)\n",
      "Requirement already satisfied: Send2Trash in ./opt/anaconda3/lib/python3.6/site-packages (from notebook>=4.4.1->widgetsnbextension>=3->arcgis) (1.5.0)\n",
      "Requirement already satisfied: nbconvert in ./opt/anaconda3/lib/python3.6/site-packages (from notebook>=4.4.1->widgetsnbextension>=3->arcgis) (6.0.7)\n",
      "Requirement already satisfied: terminado>=0.8.3 in ./opt/anaconda3/lib/python3.6/site-packages (from notebook>=4.4.1->widgetsnbextension>=3->arcgis) (0.9.1)\n",
      "Requirement already satisfied: jinja2 in ./opt/anaconda3/lib/python3.6/site-packages (from notebook>=4.4.1->widgetsnbextension>=3->arcgis) (2.11.2)\n",
      "Requirement already satisfied: prometheus-client in ./opt/anaconda3/lib/python3.6/site-packages (from notebook>=4.4.1->widgetsnbextension>=3->arcgis) (0.9.0)\n",
      "Requirement already satisfied: argon2-cffi in ./opt/anaconda3/lib/python3.6/site-packages (from notebook>=4.4.1->widgetsnbextension>=3->arcgis) (20.1.0)\n",
      "Requirement already satisfied: ptyprocess in ./opt/anaconda3/lib/python3.6/site-packages (from terminado>=0.8.3->notebook>=4.4.1->widgetsnbextension>=3->arcgis) (0.6.0)\n",
      "Requirement already satisfied: cffi>=1.0.0 in ./opt/anaconda3/lib/python3.6/site-packages (from argon2-cffi->notebook>=4.4.1->widgetsnbextension>=3->arcgis) (1.14.4)\n",
      "Requirement already satisfied: pycparser in ./opt/anaconda3/lib/python3.6/site-packages (from cffi>=1.0.0->argon2-cffi->notebook>=4.4.1->widgetsnbextension>=3->arcgis) (2.20)\n",
      "Requirement already satisfied: MarkupSafe>=0.23 in ./opt/anaconda3/lib/python3.6/site-packages (from jinja2->notebook>=4.4.1->widgetsnbextension>=3->arcgis) (1.1.1)\n",
      "Requirement already satisfied: jupyterlab_server<2.0,>=1.1.5 in ./opt/anaconda3/lib/python3.6/site-packages (from jupyterlab->arcgis) (1.2.0)\n",
      "Requirement already satisfied: json5 in ./opt/anaconda3/lib/python3.6/site-packages (from jupyterlab_server<2.0,>=1.1.5->jupyterlab->arcgis) (0.9.5)\n",
      "Collecting lerc\n",
      "  Using cached lerc-0.1.0-py3-none-any.whl\n",
      "Requirement already satisfied: pillow>=6.2.0 in ./opt/anaconda3/lib/python3.6/site-packages (from matplotlib->arcgis) (8.0.1)\n",
      "Requirement already satisfied: pyparsing!=2.0.4,!=2.1.2,!=2.1.6,>=2.0.3 in ./opt/anaconda3/lib/python3.6/site-packages (from matplotlib->arcgis) (2.4.7)\n",
      "Requirement already satisfied: kiwisolver>=1.0.1 in ./opt/anaconda3/lib/python3.6/site-packages (from matplotlib->arcgis) (1.3.0)\n",
      "Requirement already satisfied: cycler>=0.10 in ./opt/anaconda3/lib/python3.6/site-packages (from matplotlib->arcgis) (0.10.0)\n",
      "Requirement already satisfied: defusedxml in ./opt/anaconda3/lib/python3.6/site-packages (from nbconvert->notebook>=4.4.1->widgetsnbextension>=3->arcgis) (0.6.0)\n",
      "Requirement already satisfied: mistune<2,>=0.8.1 in ./opt/anaconda3/lib/python3.6/site-packages (from nbconvert->notebook>=4.4.1->widgetsnbextension>=3->arcgis) (0.8.4)\n",
      "Requirement already satisfied: pandocfilters>=1.4.1 in ./opt/anaconda3/lib/python3.6/site-packages (from nbconvert->notebook>=4.4.1->widgetsnbextension>=3->arcgis) (1.4.3)\n",
      "Requirement already satisfied: jupyterlab-pygments in ./opt/anaconda3/lib/python3.6/site-packages (from nbconvert->notebook>=4.4.1->widgetsnbextension>=3->arcgis) (0.1.2)\n",
      "Requirement already satisfied: entrypoints>=0.2.2 in ./opt/anaconda3/lib/python3.6/site-packages (from nbconvert->notebook>=4.4.1->widgetsnbextension>=3->arcgis) (0.3)\n",
      "Requirement already satisfied: testpath in ./opt/anaconda3/lib/python3.6/site-packages (from nbconvert->notebook>=4.4.1->widgetsnbextension>=3->arcgis) (0.4.4)\n",
      "Requirement already satisfied: nbclient<0.6.0,>=0.5.0 in ./opt/anaconda3/lib/python3.6/site-packages (from nbconvert->notebook>=4.4.1->widgetsnbextension>=3->arcgis) (0.5.1)\n",
      "Requirement already satisfied: bleach in ./opt/anaconda3/lib/python3.6/site-packages (from nbconvert->notebook>=4.4.1->widgetsnbextension>=3->arcgis) (3.2.1)\n"
     ]
    },
    {
     "name": "stdout",
     "output_type": "stream",
     "text": [
      "Requirement already satisfied: nest-asyncio in ./opt/anaconda3/lib/python3.6/site-packages (from nbclient<0.6.0,>=0.5.0->nbconvert->notebook>=4.4.1->widgetsnbextension>=3->arcgis) (1.4.3)\n",
      "Requirement already satisfied: async-generator in ./opt/anaconda3/lib/python3.6/site-packages (from nbclient<0.6.0,>=0.5.0->nbconvert->notebook>=4.4.1->widgetsnbextension>=3->arcgis) (1.10)\n",
      "Requirement already satisfied: webencodings in ./opt/anaconda3/lib/python3.6/site-packages (from bleach->nbconvert->notebook>=4.4.1->widgetsnbextension>=3->arcgis) (0.5.1)\n",
      "Requirement already satisfied: packaging in ./opt/anaconda3/lib/python3.6/site-packages (from bleach->nbconvert->notebook>=4.4.1->widgetsnbextension>=3->arcgis) (20.8)\n",
      "Collecting python-certifi-win32\n",
      "  Using cached python_certifi_win32-1.6-py2.py3-none-any.whl (7.2 kB)\n",
      "Requirement already satisfied: wrapt>=1.10.4 in ./opt/anaconda3/lib/python3.6/site-packages (from python-certifi-win32->arcgis) (1.11.2)\n",
      "Requirement already satisfied: certifi in ./opt/anaconda3/lib/python3.6/site-packages (from python-certifi-win32->arcgis) (2020.12.5)\n",
      "Requirement already satisfied: idna<3,>=2.5 in ./opt/anaconda3/lib/python3.6/site-packages (from requests->arcgis) (2.10)\n",
      "Requirement already satisfied: chardet<5,>=3.0.2 in ./opt/anaconda3/lib/python3.6/site-packages (from requests->arcgis) (4.0.0)\n",
      "Requirement already satisfied: urllib3<1.27,>=1.21.1 in ./opt/anaconda3/lib/python3.6/site-packages (from requests->arcgis) (1.26.2)\n",
      "Collecting requests_ntlm\n",
      "  Using cached requests_ntlm-1.1.0-py2.py3-none-any.whl (5.7 kB)\n",
      "Requirement already satisfied: cryptography>=1.3 in ./opt/anaconda3/lib/python3.6/site-packages (from requests_ntlm->arcgis) (3.3.1)\n",
      "Collecting ntlm-auth>=1.0.2\n",
      "  Using cached ntlm_auth-1.5.0-py2.py3-none-any.whl (29 kB)\n",
      "Collecting requests-oauthlib\n",
      "  Using cached requests_oauthlib-1.3.0-py2.py3-none-any.whl (23 kB)\n",
      "Collecting oauthlib>=3.0.0\n",
      "  Using cached oauthlib-3.1.1-py2.py3-none-any.whl (146 kB)\n",
      "Collecting requests_toolbelt\n",
      "  Using cached requests_toolbelt-0.9.1-py2.py3-none-any.whl (54 kB)\n",
      "Collecting setuptools-scm\n",
      "  Using cached setuptools_scm-6.0.1-py3-none-any.whl (27 kB)\n",
      "Building wheels for collected packages: arcgis\n",
      "  Building wheel for arcgis (setup.py) ... \u001b[?25ldone\n",
      "\u001b[?25h  Created wheel for arcgis: filename=arcgis-1.8.5.post3-py2.py3-none-any.whl size=3301530 sha256=bd485013007defb08b431c0b070e5da14e3aac04b68dc6cd1b10cb41892a201c\n",
      "  Stored in directory: /Users/work/Library/Caches/pip/wheels/b4/d1/4b/396a930095c3d8c8f5f367ba42e195c984467f894b34b453af\n",
      "Successfully built arcgis\n",
      "Installing collected packages: setuptools-scm, oauthlib, ntlm-auth, requests-toolbelt, requests-oauthlib, requests-ntlm, python-certifi-win32, pyshp, lerc, arcgis\n",
      "Successfully installed arcgis-1.8.5.post3 lerc-0.1.0 ntlm-auth-1.5.0 oauthlib-3.1.1 pyshp-2.1.3 python-certifi-win32-1.6 requests-ntlm-1.1.0 requests-oauthlib-1.3.0 requests-toolbelt-0.9.1 setuptools-scm-6.0.1\n"
     ]
    }
   ],
   "source": [
    "!pip install arcgis\n",
    "!pip install ipywidgets\n",
    "from arcgis.gis import GIS"
   ]
  },
  {
   "cell_type": "code",
   "execution_count": 43,
   "metadata": {},
   "outputs": [
    {
     "data": {
      "application/vnd.jupyter.widget-view+json": {
       "model_id": "dafef3d142a34f17973bc36c69a98057",
       "version_major": 2,
       "version_minor": 0
      },
      "text/plain": [
       "MapView(layout=Layout(height='400px', width='100%'))"
      ]
     },
     "metadata": {},
     "output_type": "display_data"
    },
    {
     "data": {
      "text/html": [
       "<div class=\"map-static-img-preview-fa0231e9-c876-4dfe-98bb-11916ee4c625\"><img src=\"\"></img></div>"
      ],
      "text/plain": [
       "<IPython.core.display.HTML object>"
      ]
     },
     "metadata": {},
     "output_type": "display_data"
    },
    {
     "data": {
      "text/html": [
       "<div class=\"map-html-embed-preview-fa0231e9-c876-4dfe-98bb-11916ee4c625\"></div>"
      ],
      "text/plain": [
       "<IPython.core.display.HTML object>"
      ]
     },
     "metadata": {},
     "output_type": "display_data"
    }
   ],
   "source": [
    "my_gis = GIS()\n",
    "m = my_gis.map()\n",
    "m"
   ]
  },
  {
   "cell_type": "code",
   "execution_count": 45,
   "metadata": {},
   "outputs": [
    {
     "data": {
      "text/html": [
       "<div class=\"item_container\" style=\"height: auto; overflow: hidden; border: 1px solid #cfcfcf; border-radius: 2px; background: #f6fafa; line-height: 1.21429em; padding: 10px;\">\n",
       "                    <div class=\"item_left\" style=\"width: 210px; float: left;\">\n",
       "                       <a href='https://www.arcgis.com/home/item.html?id=9cb50bcc8449454b84ff5bbf33a38df0' target='_blank'>\n",
       "                        <img src='https://www.arcgis.com/sharing/rest//content/items/9cb50bcc8449454b84ff5bbf33a38df0/info/thumbnail/ago_downloaded.jpg' class=\"itemThumbnail\">\n",
       "                       </a>\n",
       "                    </div>\n",
       "\n",
       "                    <div class=\"item_right\"     style=\"float: none; width: auto; overflow: hidden;\">\n",
       "                        <a href='https://www.arcgis.com/home/item.html?id=9cb50bcc8449454b84ff5bbf33a38df0' target='_blank'><b>.11_Planting suitability of Western Red Cedar in Forest Park, OR</b>\n",
       "                        </a>\n",
       "                        <br/>Utilizing a weighted suitability analysis to determine the most  suitable locations for planting western red cedar seedlings.<img src='https://www.arcgis.com/home/js/jsapi/esri/css/images/item_type_icons/layers16.png' style=\"vertical-align:middle;\">StoryMap by stahl2_pdxedu\n",
       "                        <br/>Last Modified: March 18, 2021\n",
       "                        <br/>36 comments, 351 views\n",
       "                    </div>\n",
       "                </div>\n",
       "                "
      ],
      "text/plain": [
       "<Item title:\".11_Planting suitability of Western Red Cedar in Forest Park, OR\" type:StoryMap owner:stahl2_pdxedu>"
      ]
     },
     "metadata": {},
     "output_type": "display_data"
    },
    {
     "data": {
      "text/html": [
       "<div class=\"item_container\" style=\"height: auto; overflow: hidden; border: 1px solid #cfcfcf; border-radius: 2px; background: #f6fafa; line-height: 1.21429em; padding: 10px;\">\n",
       "                    <div class=\"item_left\" style=\"width: 210px; float: left;\">\n",
       "                       <a href='https://www.arcgis.com/home/item.html?id=f04e3c309b324cfdb4ac7aabaf56d79c' target='_blank'>\n",
       "                        <img src='https://www.arcgis.com/sharing/rest//content/items/f04e3c309b324cfdb4ac7aabaf56d79c/info/thumbnail/Pedestrian.png' class=\"itemThumbnail\">\n",
       "                       </a>\n",
       "                    </div>\n",
       "\n",
       "                    <div class=\"item_right\"     style=\"float: none; width: auto; overflow: hidden;\">\n",
       "                        <a href='https://www.arcgis.com/home/item.html?id=f04e3c309b324cfdb4ac7aabaf56d79c' target='_blank'><b>Pedestrian Network</b>\n",
       "                        </a>\n",
       "                        <br/>Pedestrian Network<img src='https://www.arcgis.com/home/js/jsapi/esri/css/images/item_type_icons/layers16.png' style=\"vertical-align:middle;\">Layer Package by OregonMetro\n",
       "                        <br/>Last Modified: August 15, 2013\n",
       "                        <br/>0 comments, 231 views\n",
       "                    </div>\n",
       "                </div>\n",
       "                "
      ],
      "text/plain": [
       "<Item title:\"Pedestrian Network\" type:Layer Package owner:OregonMetro>"
      ]
     },
     "metadata": {},
     "output_type": "display_data"
    },
    {
     "data": {
      "text/html": [
       "<div class=\"item_container\" style=\"height: auto; overflow: hidden; border: 1px solid #cfcfcf; border-radius: 2px; background: #f6fafa; line-height: 1.21429em; padding: 10px;\">\n",
       "                    <div class=\"item_left\" style=\"width: 210px; float: left;\">\n",
       "                       <a href='https://www.arcgis.com/home/item.html?id=594605bc9cdd48a983333c03f6e58e47' target='_blank'>\n",
       "                        <img src='https://www.arcgis.com/sharing/rest//content/items/594605bc9cdd48a983333c03f6e58e47/info/thumbnail/thumbnail1553148994572.png' class=\"itemThumbnail\">\n",
       "                       </a>\n",
       "                    </div>\n",
       "\n",
       "                    <div class=\"item_right\"     style=\"float: none; width: auto; overflow: hidden;\">\n",
       "                        <a href='https://www.arcgis.com/home/item.html?id=594605bc9cdd48a983333c03f6e58e47' target='_blank'><b>.05_Finding the Missoula Flood Trail</b>\n",
       "                        </a>\n",
       "                        <br/>A story map describing the Missoula Floods and their effect on the Portland area in which a weighted analysis is used to locate potential areas to see outcrop locations that are in public areas and accessible by hiking or biking<img src='https://www.arcgis.com/home/js/jsapi/esri/css/images/item_type_icons/layers16.png' style=\"vertical-align:middle;\">Web Mapping Application by mjrobbin_pdxedu\n",
       "                        <br/>Last Modified: March 21, 2019\n",
       "                        <br/>26 comments, 654 views\n",
       "                    </div>\n",
       "                </div>\n",
       "                "
      ],
      "text/plain": [
       "<Item title:\".05_Finding the Missoula Flood Trail\" type:Web Mapping Application owner:mjrobbin_pdxedu>"
      ]
     },
     "metadata": {},
     "output_type": "display_data"
    },
    {
     "data": {
      "text/html": [
       "<div class=\"item_container\" style=\"height: auto; overflow: hidden; border: 1px solid #cfcfcf; border-radius: 2px; background: #f6fafa; line-height: 1.21429em; padding: 10px;\">\n",
       "                    <div class=\"item_left\" style=\"width: 210px; float: left;\">\n",
       "                       <a href='https://www.arcgis.com/home/item.html?id=80f1d23f12244b6e87bec0cdaf3107a6' target='_blank'>\n",
       "                        <img src='https://www.arcgis.com/sharing/rest//content/items/80f1d23f12244b6e87bec0cdaf3107a6/info/thumbnail/ago_downloaded.png' class=\"itemThumbnail\">\n",
       "                       </a>\n",
       "                    </div>\n",
       "\n",
       "                    <div class=\"item_right\"     style=\"float: none; width: auto; overflow: hidden;\">\n",
       "                        <a href='https://www.arcgis.com/home/item.html?id=80f1d23f12244b6e87bec0cdaf3107a6' target='_blank'><b>Stephen Hatfield's 2011 All Trails Challenge Map (Data Basin Map)</b>\n",
       "                        </a>\n",
       "                        <br/>&nbsp;A record of my 2011 Forest Park All Trails Challenge hikes and\n",
       "trail runs<img src='https://www.arcgis.com/home/js/jsapi/esri/css/images/item_type_icons/layers16.png' style=\"vertical-align:middle;\">Web Mapping Application by pdxforestpark\n",
       "                        <br/>Last Modified: May 19, 2011\n",
       "                        <br/>0 comments, 20 views\n",
       "                    </div>\n",
       "                </div>\n",
       "                "
      ],
      "text/plain": [
       "<Item title:\"Stephen Hatfield's 2011 All Trails Challenge Map (Data Basin Map)\" type:Web Mapping Application owner:pdxforestpark>"
      ]
     },
     "metadata": {},
     "output_type": "display_data"
    },
    {
     "data": {
      "text/html": [
       "<div class=\"item_container\" style=\"height: auto; overflow: hidden; border: 1px solid #cfcfcf; border-radius: 2px; background: #f6fafa; line-height: 1.21429em; padding: 10px;\">\n",
       "                    <div class=\"item_left\" style=\"width: 210px; float: left;\">\n",
       "                       <a href='https://www.arcgis.com/home/item.html?id=183d97f103104b6086b90f84f88c8cdc' target='_blank'>\n",
       "                        <img src='http://static.arcgis.com/images/desktopapp.png' class=\"itemThumbnail\">\n",
       "                       </a>\n",
       "                    </div>\n",
       "\n",
       "                    <div class=\"item_right\"     style=\"float: none; width: auto; overflow: hidden;\">\n",
       "                        <a href='https://www.arcgis.com/home/item.html?id=183d97f103104b6086b90f84f88c8cdc' target='_blank'><b>The Oregon Trail </b>\n",
       "                        </a>\n",
       "                        <br/>This map follows my brothers recent journey moving out from out hometown in Medford, MA across the country to Portland, OR.<img src='https://www.arcgis.com/home/js/jsapi/esri/css/images/item_type_icons/layers16.png' style=\"vertical-align:middle;\">Web Mapping Application by jamsandtoast\n",
       "                        <br/>Last Modified: December 07, 2017\n",
       "                        <br/>0 comments, 78 views\n",
       "                    </div>\n",
       "                </div>\n",
       "                "
      ],
      "text/plain": [
       "<Item title:\"The Oregon Trail \" type:Web Mapping Application owner:jamsandtoast>"
      ]
     },
     "metadata": {},
     "output_type": "display_data"
    },
    {
     "data": {
      "text/html": [
       "<div class=\"item_container\" style=\"height: auto; overflow: hidden; border: 1px solid #cfcfcf; border-radius: 2px; background: #f6fafa; line-height: 1.21429em; padding: 10px;\">\n",
       "                    <div class=\"item_left\" style=\"width: 210px; float: left;\">\n",
       "                       <a href='https://www.arcgis.com/home/item.html?id=424a63ae60ae4cfd8b10b47a91321053' target='_blank'>\n",
       "                        <img src='https://www.arcgis.com/sharing/rest//content/items/424a63ae60ae4cfd8b10b47a91321053/info/thumbnail/thumbnail1599182272534.png' class=\"itemThumbnail\">\n",
       "                       </a>\n",
       "                    </div>\n",
       "\n",
       "                    <div class=\"item_right\"     style=\"float: none; width: auto; overflow: hidden;\">\n",
       "                        <a href='https://www.arcgis.com/home/item.html?id=424a63ae60ae4cfd8b10b47a91321053' target='_blank'><b>Multnomah County Forest Carbon</b>\n",
       "                        </a>\n",
       "                        <br/>Data layers created as part of Multnomah County's Forest Carbon Inventory.\n",
       "\n",
       "Credits: Anthony Holmes<img src='https://www.arcgis.com/home/js/jsapi/esri/css/images/item_type_icons/layers16.png' style=\"vertical-align:middle;\">Web Mapping Application by holmesa@co.multnomah.or.us_multco\n",
       "                        <br/>Last Modified: September 03, 2020\n",
       "                        <br/>0 comments, 37 views\n",
       "                    </div>\n",
       "                </div>\n",
       "                "
      ],
      "text/plain": [
       "<Item title:\"Multnomah County Forest Carbon\" type:Web Mapping Application owner:holmesa@co.multnomah.or.us_multco>"
      ]
     },
     "metadata": {},
     "output_type": "display_data"
    },
    {
     "data": {
      "text/html": [
       "<div class=\"item_container\" style=\"height: auto; overflow: hidden; border: 1px solid #cfcfcf; border-radius: 2px; background: #f6fafa; line-height: 1.21429em; padding: 10px;\">\n",
       "                    <div class=\"item_left\" style=\"width: 210px; float: left;\">\n",
       "                       <a href='https://www.arcgis.com/home/item.html?id=ddadb5c627384f8199b17f3a3030aaf2' target='_blank'>\n",
       "                        <img src='https://www.arcgis.com/sharing/rest//content/items/ddadb5c627384f8199b17f3a3030aaf2/info/thumbnail/ago_downloaded.png' class=\"itemThumbnail\">\n",
       "                       </a>\n",
       "                    </div>\n",
       "\n",
       "                    <div class=\"item_right\"     style=\"float: none; width: auto; overflow: hidden;\">\n",
       "                        <a href='https://www.arcgis.com/home/item.html?id=ddadb5c627384f8199b17f3a3030aaf2' target='_blank'><b>Transit/Park and Ride</b>\n",
       "                        </a>\n",
       "                        <br/><img src='https://www.arcgis.com/home/js/jsapi/esri/css/images/item_type_icons/maps16.png' style=\"vertical-align:middle;\">Web Map by HopeTejedas\n",
       "                        <br/>Last Modified: June 08, 2014\n",
       "                        <br/>0 comments, 227 views\n",
       "                    </div>\n",
       "                </div>\n",
       "                "
      ],
      "text/plain": [
       "<Item title:\"Transit/Park and Ride\" type:Web Map owner:HopeTejedas>"
      ]
     },
     "metadata": {},
     "output_type": "display_data"
    },
    {
     "data": {
      "text/html": [
       "<div class=\"item_container\" style=\"height: auto; overflow: hidden; border: 1px solid #cfcfcf; border-radius: 2px; background: #f6fafa; line-height: 1.21429em; padding: 10px;\">\n",
       "                    <div class=\"item_left\" style=\"width: 210px; float: left;\">\n",
       "                       <a href='https://www.arcgis.com/home/item.html?id=c525d5f666074c42aa4131fb9fcdf7f3' target='_blank'>\n",
       "                        <img src='https://www.arcgis.com/sharing/rest//content/items/c525d5f666074c42aa4131fb9fcdf7f3/info/thumbnail/ago_downloaded.png' class=\"itemThumbnail\">\n",
       "                       </a>\n",
       "                    </div>\n",
       "\n",
       "                    <div class=\"item_right\"     style=\"float: none; width: auto; overflow: hidden;\">\n",
       "                        <a href='https://www.arcgis.com/home/item.html?id=c525d5f666074c42aa4131fb9fcdf7f3' target='_blank'><b>Parks Trails</b>\n",
       "                        </a>\n",
       "                        <br/><img src='https://www.arcgis.com/home/js/jsapi/esri/css/images/item_type_icons/featureshosted16.png' style=\"vertical-align:middle;\">Feature Layer Collection by cgis.maps\n",
       "                        <br/>Last Modified: January 29, 2019\n",
       "                        <br/>0 comments, 11,147 views\n",
       "                    </div>\n",
       "                </div>\n",
       "                "
      ],
      "text/plain": [
       "<Item title:\"Parks Trails\" type:Feature Layer Collection owner:cgis.maps>"
      ]
     },
     "metadata": {},
     "output_type": "display_data"
    },
    {
     "data": {
      "text/html": [
       "<div class=\"item_container\" style=\"height: auto; overflow: hidden; border: 1px solid #cfcfcf; border-radius: 2px; background: #f6fafa; line-height: 1.21429em; padding: 10px;\">\n",
       "                    <div class=\"item_left\" style=\"width: 210px; float: left;\">\n",
       "                       <a href='https://www.arcgis.com/home/item.html?id=38f577e6e3ff42a7b2a810fd1bfb4c6c' target='_blank'>\n",
       "                        <img src='https://www.arcgis.com/sharing/rest//content/items/38f577e6e3ff42a7b2a810fd1bfb4c6c/info/thumbnail/29cc4866a5a0476ba2df83df1f3cbc2d_thumb7310982965365006547.png' class=\"itemThumbnail\">\n",
       "                       </a>\n",
       "                    </div>\n",
       "\n",
       "                    <div class=\"item_right\"     style=\"float: none; width: auto; overflow: hidden;\">\n",
       "                        <a href='https://www.arcgis.com/home/item.html?id=38f577e6e3ff42a7b2a810fd1bfb4c6c' target='_blank'><b>Portland's Forest Park (Data Basin Map)</b>\n",
       "                        </a>\n",
       "                        <br/>One of the largest parks within a city limits in the world. It contains\n",
       "over 70 miles of wooded trails within the west hills of Portland Oregon.\n",
       "&nbsp;To find out more visit the&nbsp;<img src='https://www.arcgis.com/home/js/jsapi/esri/css/images/item_type_icons/layers16.png' style=\"vertical-align:middle;\">Web Mapping Application by JohnLBergquist\n",
       "                        <br/>Last Modified: November 09, 2010\n",
       "                        <br/>0 comments, 57 views\n",
       "                    </div>\n",
       "                </div>\n",
       "                "
      ],
      "text/plain": [
       "<Item title:\"Portland's Forest Park (Data Basin Map)\" type:Web Mapping Application owner:JohnLBergquist>"
      ]
     },
     "metadata": {},
     "output_type": "display_data"
    },
    {
     "data": {
      "text/html": [
       "<div class=\"item_container\" style=\"height: auto; overflow: hidden; border: 1px solid #cfcfcf; border-radius: 2px; background: #f6fafa; line-height: 1.21429em; padding: 10px;\">\n",
       "                    <div class=\"item_left\" style=\"width: 210px; float: left;\">\n",
       "                       <a href='https://www.arcgis.com/home/item.html?id=dcf4e0a9524249b08baa8b8f44984375' target='_blank'>\n",
       "                        <img src='https://www.arcgis.com/sharing/rest//content/items/dcf4e0a9524249b08baa8b8f44984375/info/thumbnail/6f19f2ade13a47b4bc44891bfdd01a6f_thumb8672901681356145761.png' class=\"itemThumbnail\">\n",
       "                       </a>\n",
       "                    </div>\n",
       "\n",
       "                    <div class=\"item_right\"     style=\"float: none; width: auto; overflow: hidden;\">\n",
       "                        <a href='https://www.arcgis.com/home/item.html?id=dcf4e0a9524249b08baa8b8f44984375' target='_blank'><b>Forest Park All Trails Challenge 2011 Starter Map (Data Basin Map)</b>\n",
       "                        </a>\n",
       "                        <br/><span style=''>The popular&nbsp;<a href='http://forestparkconservancy.org/portland-hiking-trails/all-trails-challenge.html'>Forest\n",
       "    Park Conservancy All Trails Challenge</a>&nbsp;returns in 2011 as a\n",
       "  completely re-imagined event. The...</span><img src='https://www.arcgis.com/home/js/jsapi/esri/css/images/item_type_icons/layers16.png' style=\"vertical-align:middle;\">Web Mapping Application by pdxforestpark\n",
       "                        <br/>Last Modified: March 03, 2011\n",
       "                        <br/>0 comments, 124 views\n",
       "                    </div>\n",
       "                </div>\n",
       "                "
      ],
      "text/plain": [
       "<Item title:\"Forest Park All Trails Challenge 2011 Starter Map (Data Basin Map)\" type:Web Mapping Application owner:pdxforestpark>"
      ]
     },
     "metadata": {},
     "output_type": "display_data"
    }
   ],
   "source": [
    "from IPython.display import display\n",
    "\n",
    "items = my_gis.content.search('Portland Oregon Trails')\n",
    "for item in items:\n",
    "    display(item)"
   ]
  },
  {
   "cell_type": "code",
   "execution_count": 47,
   "metadata": {},
   "outputs": [
    {
     "data": {
      "application/vnd.jupyter.widget-view+json": {
       "model_id": "e1ee22b744b343b7b3ce219dc3a5e29a",
       "version_major": 2,
       "version_minor": 0
      },
      "text/plain": [
       "MapView(layout=Layout(height='400px', width='100%'))"
      ]
     },
     "metadata": {},
     "output_type": "display_data"
    },
    {
     "data": {
      "text/html": [
       "<div class=\"map-static-img-preview-fe2a98b6-7adf-437f-9234-841d8a0df6f3\"><img src=\"\"></img></div>"
      ],
      "text/plain": [
       "<IPython.core.display.HTML object>"
      ]
     },
     "metadata": {},
     "output_type": "display_data"
    },
    {
     "data": {
      "text/html": [
       "<div class=\"map-html-embed-preview-fe2a98b6-7adf-437f-9234-841d8a0df6f3\"></div>"
      ],
      "text/plain": [
       "<IPython.core.display.HTML object>"
      ]
     },
     "metadata": {},
     "output_type": "display_data"
    }
   ],
   "source": [
    "map1 = my_gis.map(\"Portland, OR\")\n",
    "map1"
   ]
  },
  {
   "cell_type": "code",
   "execution_count": null,
   "metadata": {},
   "outputs": [],
   "source": []
  }
 ],
 "metadata": {
  "kernelspec": {
   "display_name": "Python 3",
   "language": "python",
   "name": "python3"
  },
  "language_info": {
   "codemirror_mode": {
    "name": "ipython",
    "version": 3
   },
   "file_extension": ".py",
   "mimetype": "text/x-python",
   "name": "python",
   "nbconvert_exporter": "python",
   "pygments_lexer": "ipython3",
   "version": "3.6.12"
  }
 },
 "nbformat": 4,
 "nbformat_minor": 4
}
