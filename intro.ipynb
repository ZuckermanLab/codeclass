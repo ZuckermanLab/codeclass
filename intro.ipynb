{
 "cells": [
  {
   "cell_type": "markdown",
   "id": "d8d3c244",
   "metadata": {},
   "source": [
    "# Intro to Python"
   ]
  },
  {
   "cell_type": "markdown",
   "id": "f049b8ed",
   "metadata": {},
   "source": [
    "## How do we tell a computer to do things?"
   ]
  },
  {
   "cell_type": "markdown",
   "id": "98573904",
   "metadata": {},
   "source": [
    "A computer program is like a script for a computer, that tells it what to do.\n",
    "\n",
    "When we run one of these scripts, it starts at the top and goes down line by line, doing whatever you told it.\n",
    "\n",
    "When you see color-coded text in gray boxes here, that's computer code. You can run it by pressing `Shift+Enter`."
   ]
  },
  {
   "cell_type": "code",
   "execution_count": 62,
   "id": "5e7881c1",
   "metadata": {},
   "outputs": [
    {
     "name": "stdout",
     "output_type": "stream",
     "text": [
      "Hello, world!\n",
      "This is part of the script!\n"
     ]
    }
   ],
   "source": [
    "print(\"Hello, world!\")\n",
    "print(\"This is part of the script!\")"
   ]
  },
  {
   "cell_type": "markdown",
   "id": "4673ba31",
   "metadata": {},
   "source": [
    "A computer has certain things it knows how to do. Like in the above, the `print()` tells it to display some text on the screen.\n",
    "\n",
    "When you write a computer program, you're combining these things it already knows how to do, to make something more complicated and interesting.\n",
    "\n",
    "When you want to write a computer program to do something, the first thing you have to do is think about the set of steps you need to take to solve your problem. This set of steps is called an **algorithm**."
   ]
  },
  {
   "cell_type": "markdown",
   "id": "70e7366d",
   "metadata": {},
   "source": [
    "#### Example algorithm: Introducing yourself"
   ]
  },
  {
   "cell_type": "markdown",
   "id": "af802020",
   "metadata": {},
   "source": [
    "Let's think of an example of an algorithm: you want to introduce yourself to someone new.\n",
    "\n",
    "What set of steps could you follow to do this?\n",
    "\n",
    "<details><summary> An algorithm for introducing yourself  </summary>\n",
    "    \n",
    "    1. Tell them your name\n",
    "    2. Get their name\n",
    "    3. Tell them it's nice to meet them"
   ]
  },
  {
   "cell_type": "code",
   "execution_count": 65,
   "id": "f069536c",
   "metadata": {},
   "outputs": [
    {
     "name": "stdout",
     "output_type": "stream",
     "text": [
      "Hi, I'm John!\n"
     ]
    },
    {
     "name": "stdin",
     "output_type": "stream",
     "text": [
      "What's your name? JOHN\n"
     ]
    },
    {
     "name": "stdout",
     "output_type": "stream",
     "text": [
      "Nice to meet you, john!\n"
     ]
    }
   ],
   "source": [
    "# Let's start by telling them our name.\n",
    "print(f\"Hi, I'm John!\")\n",
    "\n",
    "# Now, let's get their name\n",
    "your_name = input(\"What's your name?\")\n",
    "\n",
    "# Finally, let's be polite.\n",
    "print(f\"Nice to meet you, {your_name}!\")"
   ]
  },
  {
   "cell_type": "markdown",
   "id": "014f0c3c",
   "metadata": {},
   "source": [
    "In that algorithm, we started by telling them our name, which we just wrote in as part of our algorithm. But because we don't know their name yet, we had to get it from them, and store it as a  **variable**  by using `=` (not to be confused with `==`!).\n",
    "\n",
    "Then, when we say hi back to them, we put that variable into the response. \n",
    "\n",
    "`input()` presents a box for entry, and then saves whatever is typed into that in the **variable** on the left of the equals sign.\n",
    "\n",
    "Then when we print our response, `{your_name}` gets replaced with the contents of the variable `your_name`. \n",
    "\n",
    "A `#` tells Python that everything on that line after it is a **comment** for the programmers, and to ignore it.\n",
    "\n",
    "##### F-strings\n",
    "\n",
    "In this example, I used something called an \"f-string\". An f-string is a string of the form `f\"some text inside\"`. You can insert variables into f-strings using curly braces, as above."
   ]
  },
  {
   "cell_type": "markdown",
   "id": "a10c79f0",
   "metadata": {},
   "source": [
    "#### Example algorithm: Deciding what to wear in the sun"
   ]
  },
  {
   "cell_type": "markdown",
   "id": "4b1babb4",
   "metadata": {},
   "source": [
    "Last weekend, I got a pretty gnarly sunburn because I went to the beach without checking what the weather would be like. But what if I had followed an algorithm to decide whether or not to wear sunscreen?\n",
    "\n",
    "\n",
    "<details>\n",
    "    <summary> An algorithm for deciding whether to wear sunscreen  </summary>\n",
    "    \n",
    "    1. Check the UV index\n",
    "    2. If it's 3 or above, put on sunscreen"
   ]
  },
  {
   "cell_type": "markdown",
   "id": "06e0df2e",
   "metadata": {},
   "source": [
    "If you think carefully about this, you'll notice a big difference in this algorithm -- the word **if**!\n",
    "\n",
    "In the previous algorithm, we follow the same set of steps every time, just replacing the name with whatever's appropriate.\n",
    "\n",
    "But now, we have to do something different based on how bright it is.  Let's see what that looks like."
   ]
  },
  {
   "cell_type": "code",
   "execution_count": 66,
   "id": "01e10258",
   "metadata": {},
   "outputs": [
    {
     "name": "stdout",
     "output_type": "stream",
     "text": [
      "Put on some sunscreen!\n"
     ]
    }
   ],
   "source": [
    "# The UV index -- try changing this number\n",
    "uv_index = 10\n",
    "\n",
    "if uv_index < 3:\n",
    "    print(\"All clear\")\n",
    "    \n",
    "elif uv_index > 10:\n",
    "    print(\"Stay inside, it looks rough outside\")\n",
    "\n",
    "else:\n",
    "    print(\"Put on some sunscreen!\")"
   ]
  },
  {
   "cell_type": "markdown",
   "id": "b55f1b42",
   "metadata": {},
   "source": [
    "This is called an **if statement**. \n",
    "\n",
    "If the thing right after `if` is true, it'll run the indented code below. If it's not, it'll check the next case below it. (Every \"alternative\" is an `elif`, short for \"else if\". `else` is the catch-all, if nothing else was true.)\n",
    "\n",
    "This is where programming starts to get really powerful -- making decisions, based on the results of other things."
   ]
  },
  {
   "cell_type": "markdown",
   "id": "e368b67d",
   "metadata": {},
   "source": [
    "## How do we tell the computer to store things?"
   ]
  },
  {
   "cell_type": "markdown",
   "id": "5b6c4032",
   "metadata": {},
   "source": [
    "In these examples, we used two variables, `my_name` and `uv_index`. But we set them in slightly different ways.\n",
    "\n",
    "In the first example, I wrote `my_name = \"John\"`, with John in quotes. That tells Python that it's a string, or a set of numbers, letters, or other symbols.\n",
    "\n",
    "In the second, we wrote `uv_index = 2`. That tells Python that `uv_index` is a number. It needs to know the difference, because you do things differently depending on whether a variable is a letter or a number.\n",
    "\n",
    "For example, what's different about \"adding\" two numbers together, versus two strings? What does it even mean to add two strings?"
   ]
  },
  {
   "cell_type": "code",
   "execution_count": 67,
   "id": "4603e862",
   "metadata": {},
   "outputs": [
    {
     "name": "stdout",
     "output_type": "stream",
     "text": [
      "3\n",
      "12\n",
      "abc\n"
     ]
    }
   ],
   "source": [
    "print(1 + 2)\n",
    "\n",
    "print('1' + '2')\n",
    "\n",
    "print('a' + 'b' + 'c')"
   ]
  },
  {
   "cell_type": "markdown",
   "id": "8b0f9989",
   "metadata": {},
   "source": [
    "Numbers add together in the usual way. But \"adding\" strings means sticking them together (also called concatenation).\n",
    "\n",
    "For that reason, it's important that we use the right **data type** for our variables. \n",
    "\n",
    "Each programming language has a different way of writing things, called its *syntax*. \n",
    "In some programming languages, you explicitly tell it what type of variable something is, by writing something like `str myName = \"John\"`, which tells it `myName` will store a string, or `int uvIndex = 3`, which tells it `uvIndex` is an integer (a whole number).\n",
    "\n",
    "In Python, you don't have to do that -- it figures it out automatically based on how you define it."
   ]
  },
  {
   "cell_type": "markdown",
   "id": "8759e6ab",
   "metadata": {},
   "source": [
    "### Types of variables"
   ]
  },
  {
   "cell_type": "markdown",
   "id": "15e3959f",
   "metadata": {},
   "source": [
    "There are a lot more types of variables than just strings and integers. I won't get into all of them, but I'll give you a few important ones."
   ]
  },
  {
   "cell_type": "markdown",
   "id": "0cc48a54",
   "metadata": {},
   "source": [
    "#### Numbers"
   ]
  },
  {
   "cell_type": "markdown",
   "id": "0eb9e0f7",
   "metadata": {},
   "source": [
    "I showed you how to store a number in a variable, but there's actually a few different types of numbers you can use.\n",
    "\n",
    "An `int` is an integer, or a whole number. A `float` is a decimal (the name comes from the technical term for how decimals are stored in a computer, \"floating-point\".  Not important.)\n",
    "\n",
    "By default, if you're using Python 3, it'll generally assume it's a `float` and not an `int` unless you specifically tell it to make it an `int`."
   ]
  },
  {
   "cell_type": "code",
   "execution_count": 25,
   "id": "9f6c3876",
   "metadata": {},
   "outputs": [
    {
     "name": "stdout",
     "output_type": "stream",
     "text": [
      "3.14\n",
      "3\n"
     ]
    }
   ],
   "source": [
    "a_float = 3.14\n",
    "\n",
    "an_int = int(a_float)\n",
    "\n",
    "print(a_float)\n",
    "print(an_int)"
   ]
  },
  {
   "cell_type": "markdown",
   "id": "30943a36",
   "metadata": {},
   "source": [
    "You can do all sorts of math with numbers, as you might imagine."
   ]
  },
  {
   "cell_type": "code",
   "execution_count": 44,
   "id": "e3124753",
   "metadata": {},
   "outputs": [
    {
     "name": "stdout",
     "output_type": "stream",
     "text": [
      "6\n",
      "15\n",
      "36\n"
     ]
    }
   ],
   "source": [
    "# Add\n",
    "print(4 + 2)\n",
    "\n",
    "# Multiply\n",
    "print(5 * 3)\n",
    "\n",
    "# Raise to a power\n",
    "print(6**2)"
   ]
  },
  {
   "cell_type": "code",
   "execution_count": null,
   "id": "82164349",
   "metadata": {},
   "outputs": [],
   "source": [
    "# Calculate something\n"
   ]
  },
  {
   "cell_type": "markdown",
   "id": "41787237",
   "metadata": {},
   "source": [
    "#### Strings\n",
    "\n",
    "We already talked about strings a little, but let me give you some more details on them.\n",
    "\n",
    "You can define a string with either single quotes or double quotes, but you have to match them."
   ]
  },
  {
   "cell_type": "code",
   "execution_count": 45,
   "id": "55b1f200",
   "metadata": {},
   "outputs": [
    {
     "name": "stdout",
     "output_type": "stream",
     "text": [
      "Hello\n",
      "Hello\n"
     ]
    }
   ],
   "source": [
    "a_string = \"Hello\"\n",
    "another_string = 'Hello'\n",
    "\n",
    "print(a_string)\n",
    "print(another_string)"
   ]
  },
  {
   "cell_type": "markdown",
   "id": "dc9ffc3d",
   "metadata": {},
   "source": [
    "But what if you want to put quotes within a string? You can either define the string using the other type of quote, or you can **escape** special characters like quotes by putting a `\\` before them."
   ]
  },
  {
   "cell_type": "code",
   "execution_count": 49,
   "id": "dae57e00",
   "metadata": {},
   "outputs": [
    {
     "name": "stdout",
     "output_type": "stream",
     "text": [
      " \"I think, therefore I am.\" - René Descartes\n",
      " \"Time flies like an arrow. Fruit flies like a banana.\" - Someone, probably\n"
     ]
    }
   ],
   "source": [
    "print(' \"I think, therefore I am.\" - René Descartes')\n",
    "print(\" \\\"Time flies like an arrow. Fruit flies like a banana.\\\" - Someone, probably\")"
   ]
  },
  {
   "cell_type": "markdown",
   "id": "1b5d5a74",
   "metadata": {},
   "source": [
    "#### Booleans\n",
    "\n",
    "A \"Boolean\" is a `True` or `False` value."
   ]
  },
  {
   "cell_type": "code",
   "execution_count": 19,
   "id": "f7e2b913",
   "metadata": {},
   "outputs": [
    {
     "name": "stdout",
     "output_type": "stream",
     "text": [
      "Wow, all my friends need to learn this too\n"
     ]
    }
   ],
   "source": [
    "enjoying_the_class = True\n",
    "\n",
    "if enjoying_the_class:\n",
    "    print(\"Wow, all my friends need to learn this too\")\n",
    "    \n",
    "else:\n",
    "    print(\"Wow, I bet when I learn more I'm going to love this\")"
   ]
  },
  {
   "cell_type": "markdown",
   "id": "ff4f1728",
   "metadata": {},
   "source": [
    "In fact, any inequality (i.e. something with `>`, `<`, `>=`, `<=`, or `==`) gets converted into a boolean. If statements work on Booleans -- `if` this is `True`, do this,  `elif` this is True instead, do that, `else` if none of that was true, do the other thing.\n",
    "\n",
    "Let me show you how any inequality is really just a Boolean:"
   ]
  },
  {
   "cell_type": "code",
   "execution_count": 23,
   "id": "3a765164",
   "metadata": {},
   "outputs": [
    {
     "name": "stdout",
     "output_type": "stream",
     "text": [
      "False\n",
      "False\n",
      "True\n"
     ]
    }
   ],
   "source": [
    "print(2 > 3)\n",
    "print(3 == 4)\n",
    "print('test' == 'test')"
   ]
  },
  {
   "cell_type": "markdown",
   "id": "4c891e9b",
   "metadata": {},
   "source": [
    "#### Lists"
   ]
  },
  {
   "cell_type": "markdown",
   "id": "7839b4e1",
   "metadata": {},
   "source": [
    "Sometimes you want to store a bunch of values together with each other. You can do that with a `list`, which is just what it sounds like. A `list` is, well, a list of some other data type. They can be all the same, or mixed together."
   ]
  },
  {
   "cell_type": "code",
   "execution_count": 26,
   "id": "9e800e08",
   "metadata": {},
   "outputs": [],
   "source": [
    "color_list = ['Red', 'Orange', 'Yellow',  'Green', 'Blue', 'Indigo', 'Violet']"
   ]
  },
  {
   "cell_type": "markdown",
   "id": "9c355fcf",
   "metadata": {},
   "source": [
    "You get certain elements out of a list by **indexing** it. To do that, you just put an integer in square brackets after the name of the list, and the integer is which **list element** you want to get.\n",
    "\n",
    "Because reasons, we start counting at 0."
   ]
  },
  {
   "cell_type": "code",
   "execution_count": 27,
   "id": "86256f08",
   "metadata": {},
   "outputs": [
    {
     "name": "stdout",
     "output_type": "stream",
     "text": [
      "Red\n",
      "Orange\n",
      "Violet\n"
     ]
    }
   ],
   "source": [
    "color_list = ['Red', 'Orange', 'Yellow',  'Green', 'Blue', 'Indigo', 'Violet']\n",
    "\n",
    "# Print out the first element\n",
    "print(color_list[0])\n",
    "\n",
    "# Print out the second element\n",
    "print(color_list[1])\n",
    "\n",
    "# We can also count backwards from the last element!\n",
    "print(color_list[-1])"
   ]
  },
  {
   "cell_type": "markdown",
   "id": "4be89c54",
   "metadata": {},
   "source": [
    "#### Dictionaries"
   ]
  },
  {
   "cell_type": "markdown",
   "id": "bfe7a8ca",
   "metadata": {},
   "source": [
    "Dictionaries are one of my favorite data structures, because they're at the same time simple and very powerful. In short, it's a little like a list, but instead of indexing it by the element's position in the list, each element is assigned a unique **key**.  \n",
    "\n",
    "You can think of a dictionary like a set of mailboxes, where the key is the address. You can put whatever you want in each mailbox -- a string, an int, a float, or a list of whatever combination of those.\n",
    "\n",
    "Say we want to store a dictionary, containing the capitols of some states."
   ]
  },
  {
   "cell_type": "code",
   "execution_count": 58,
   "id": "89b2c931",
   "metadata": {},
   "outputs": [
    {
     "name": "stdout",
     "output_type": "stream",
     "text": [
      "Salem\n"
     ]
    }
   ],
   "source": [
    "state_capitols = {\n",
    "    \"Oregon\": \"Salem\",\n",
    "    \"California\": \"Sacramento\",\n",
    "    \"Washington\":  \"Olympia\"\n",
    "}\n",
    "\n",
    "# What's the capitol of Oregon?\n",
    "print(state_capitols['Oregon'])"
   ]
  },
  {
   "cell_type": "markdown",
   "id": "5648262b",
   "metadata": {},
   "source": [
    "## Functions"
   ]
  },
  {
   "cell_type": "markdown",
   "id": "8a9e6d78",
   "metadata": {},
   "source": [
    "Up to now, we've been running all our code one block at a time. But if you want to repeat the same action a few times, you don't want to have to copy paste the code block over and over!  One, that's inconvenient and ugly, and two, if we change something in the algorithm, we need to change it in every place we copied and pasted it!\n",
    "\n",
    "To solve that, and  big part of programming is defining \"functions\",  which are like shortcuts for running an algorithm.\n",
    "\n",
    "Let's turn our sunscreen algorithm into a function."
   ]
  },
  {
   "cell_type": "code",
   "execution_count": 34,
   "id": "532f08b2",
   "metadata": {},
   "outputs": [],
   "source": [
    "def need_sunscreen(uv_index):\n",
    "    \n",
    "    if uv_index < 3:\n",
    "        print(\"All clear\")\n",
    "\n",
    "    elif uv_index > 10:\n",
    "        print(\"Stay inside, it looks rough outside\")\n",
    "\n",
    "    else:\n",
    "        print(\"Put on some sunscreen!\")"
   ]
  },
  {
   "cell_type": "markdown",
   "id": "44f0c787",
   "metadata": {},
   "source": [
    "`uv_index` here is the **argument** to the function, an input the function needs to use, but that you provide to it. That lets you define a function once, but run it with lots of different values.\n",
    "\n",
    "When you run that cell, nothing happens! That's because running that just *defines* the function -- to *run* it, we need to **call** the function."
   ]
  },
  {
   "cell_type": "code",
   "execution_count": 37,
   "id": "ec29cc2f",
   "metadata": {},
   "outputs": [
    {
     "name": "stdout",
     "output_type": "stream",
     "text": [
      "All clear\n",
      "Put on some sunscreen!\n",
      "Stay inside, it looks rough outside\n"
     ]
    }
   ],
   "source": [
    "need_sunscreen(1)\n",
    "need_sunscreen(5)\n",
    "need_sunscreen(13)"
   ]
  },
  {
   "cell_type": "markdown",
   "id": "9e233123",
   "metadata": {},
   "source": [
    "### Nifty built-in functions"
   ]
  },
  {
   "cell_type": "markdown",
   "id": "f0a8fe3e",
   "metadata": {},
   "source": [
    "A lot of the datatypes we've looked at already have built-in functions to do some common tasks.\n",
    "\n",
    "For example, you can take a string and convert it to all-lowercase using `my_string.lower()`. You can read that as \"Call the function belonging to `my_string` named `lower`, which has empty parentheses because it takes no arguments.\""
   ]
  },
  {
   "cell_type": "code",
   "execution_count": 51,
   "id": "af8e4163",
   "metadata": {},
   "outputs": [
    {
     "data": {
      "text/plain": [
       "'python is so much fun!!!'"
      ]
     },
     "execution_count": 51,
     "metadata": {},
     "output_type": "execute_result"
    }
   ],
   "source": [
    "\"PYTHON IS SO MUCH FUN!!!\".lower()"
   ]
  },
  {
   "cell_type": "markdown",
   "id": "e4790f80",
   "metadata": {},
   "source": [
    "Dictionaries have some useful built-in functions too.\n",
    "\n",
    "You can get all the keys by calling `.keys()` on your dictionary, all the values with `.values()`, or a list of 2-element `(key, value)` lists by calling `.items()`."
   ]
  },
  {
   "cell_type": "code",
   "execution_count": 53,
   "id": "3c0e1fe6",
   "metadata": {},
   "outputs": [
    {
     "name": "stdout",
     "output_type": "stream",
     "text": [
      "dict_keys(['Oregon', 'California', 'Washington'])\n",
      "dict_values(['Salem', 'Sacramento', 'Olympia'])\n",
      "dict_items([('Oregon', 'Salem'), ('California', 'Sacramento'), ('Washington', 'Olympia')])\n"
     ]
    }
   ],
   "source": [
    "print(state_capitols.keys())\n",
    "print(state_capitols.values())\n",
    "print(state_capitols.items())"
   ]
  },
  {
   "cell_type": "markdown",
   "id": "8bd2411d",
   "metadata": {},
   "source": [
    "If you look at the output of that, you'll notice that it's not *actually* a list, it's a data type called `dict_items`. Python has all sorts of different data types for different things. You don't need to worry about that, because in this case, we can just turn it into a list!"
   ]
  },
  {
   "cell_type": "code",
   "execution_count": 57,
   "id": "04903ac7",
   "metadata": {},
   "outputs": [
    {
     "name": "stdout",
     "output_type": "stream",
     "text": [
      "[('Oregon', 'Salem'), ('California', 'Sacramento'), ('Washington', 'Olympia')]\n",
      "('Oregon', 'Salem')\n"
     ]
    }
   ],
   "source": [
    "items_list = list(state_capitols.items())\n",
    "\n",
    "print(items_list)\n",
    "print(items_list[0])"
   ]
  },
  {
   "cell_type": "markdown",
   "id": "84b1d01a",
   "metadata": {},
   "source": [
    "## `For` loops"
   ]
  },
  {
   "cell_type": "markdown",
   "id": "188f34a1",
   "metadata": {},
   "source": [
    "Another important part of writing code is \"looping\" in different ways, which just means systematically repeating parts of your code.\n",
    "\n",
    "Let's run with the sunscreen example for a minute, to show you what I mean.\n",
    "\n",
    "Say at the beginning of every week, you have a list of the UV indices for every day, and you want to make a little list to tell you which days you need sunscreen or not.\n",
    "\n",
    "One way of doing this would be:"
   ]
  },
  {
   "cell_type": "code",
   "execution_count": 38,
   "id": "f74b081f",
   "metadata": {},
   "outputs": [
    {
     "name": "stdout",
     "output_type": "stream",
     "text": [
      "All clear\n",
      "Put on some sunscreen!\n",
      "Put on some sunscreen!\n",
      "Put on some sunscreen!\n",
      "Stay inside, it looks rough outside\n",
      "All clear\n",
      "Put on some sunscreen!\n"
     ]
    }
   ],
   "source": [
    "uv_indices = [1, 4, 3, 3, 12, 1, 6]\n",
    "\n",
    "need_sunscreen(uv_indices[0])\n",
    "need_sunscreen(uv_indices[1])\n",
    "need_sunscreen(uv_indices[2])\n",
    "need_sunscreen(uv_indices[3])\n",
    "need_sunscreen(uv_indices[4])\n",
    "need_sunscreen(uv_indices[5])\n",
    "need_sunscreen(uv_indices[6])"
   ]
  },
  {
   "cell_type": "markdown",
   "id": "3cb70f89",
   "metadata": {},
   "source": [
    "but that's sort of a mess, and in general, we want to avoid duplicating code wherever possible.\n",
    "\n",
    "A `for` loop will go through the list one element at a time, and let us do something with that element."
   ]
  },
  {
   "cell_type": "code",
   "execution_count": 39,
   "id": "3469a4d3",
   "metadata": {},
   "outputs": [
    {
     "name": "stdout",
     "output_type": "stream",
     "text": [
      "All clear\n",
      "Put on some sunscreen!\n",
      "Put on some sunscreen!\n",
      "Put on some sunscreen!\n",
      "Stay inside, it looks rough outside\n",
      "All clear\n",
      "Put on some sunscreen!\n"
     ]
    }
   ],
   "source": [
    "uv_indices = [1, 4, 3, 3, 12, 1, 6]\n",
    "\n",
    "for uv_index in uv_indices:\n",
    "    \n",
    "    need_sunscreen(uv_index)"
   ]
  },
  {
   "cell_type": "markdown",
   "id": "1abbadd1",
   "metadata": {},
   "source": [
    "In each *iteration* of the loop, `uv_index` contains the current element of the list `uv_indices` that we're looking at.\n",
    "\n",
    "This is convenient whenever you want to repeat logic, but for different inputs."
   ]
  },
  {
   "cell_type": "markdown",
   "id": "08a0a468",
   "metadata": {},
   "source": [
    "# Writing a game\n",
    "\n",
    "One thing I had to do in high school was memorize all the state capitals. (Who knows why... It's like cursive, you'll never use that. Anyways.)\n",
    "\n",
    "I thought programming was more fun than studying, so I liked to find ways to study through programming.\n",
    "\n",
    "So, in that vein, let's write a little game to help learn the state capitals."
   ]
  },
  {
   "cell_type": "markdown",
   "id": "98d4bb95",
   "metadata": {},
   "source": [
    "We'll start off with every state and its capital, stored in a **dictionary**. A dictionary is a perfect way to store this, because we can just **index** it by the state, and get out the capital."
   ]
  },
  {
   "cell_type": "code",
   "execution_count": 69,
   "id": "49e25830",
   "metadata": {},
   "outputs": [],
   "source": [
    "all_state_capitals = {'Alabama': 'Montgomery',\n",
    " 'Alaska': 'Juneau',\n",
    " 'Arizona': 'Phoenix',\n",
    " 'Arkansas': 'Little Rock',\n",
    " 'California': 'Sacramento',\n",
    " 'Colorado': 'Denver',\n",
    " 'Connecticut': 'Hartford',\n",
    " 'Delaware': 'Dover',\n",
    " 'Florida': 'Tallahassee',\n",
    " 'Georgia': 'Atlanta',\n",
    " 'Hawaii': 'Honolulu',\n",
    " 'Idaho': 'Boise',\n",
    " 'Illinois': 'Springfield',\n",
    " 'Indiana': 'Indianapolis',\n",
    " 'Iowa': 'Des Moines',\n",
    " 'Kansas': 'Topeka',\n",
    " 'Kentucky': 'Frankfort',\n",
    " 'Louisiana': 'Baton Rouge',\n",
    " 'Maine': 'Augusta',\n",
    " 'Maryland': 'Annapolis',\n",
    " 'Massachusetts': 'Boston',\n",
    " 'Michigan': 'Lansing',\n",
    " 'Minnesota': 'Saint Paul',\n",
    " 'Mississippi': 'Jackson',\n",
    " 'Missouri': 'Jefferson City',\n",
    " 'Montana': 'Helena',\n",
    " 'Nebraska': 'Lincoln',\n",
    " 'Nevada': 'Carson City',\n",
    " 'New Hampshire': 'Concord',\n",
    " 'New Jersey': 'Trenton',\n",
    " 'New Mexico': 'Santa Fe',\n",
    " 'New York': 'Albany',\n",
    " 'North Carolina': 'Raleigh',\n",
    " 'North Dakota': 'Bismarck',\n",
    " 'Ohio': 'Columbus',\n",
    " 'Oklahoma': 'Oklahoma City',\n",
    " 'Oregon': 'Salem',\n",
    " 'Pennsylvania': 'Harrisburg',\n",
    " 'Rhode Island': 'Providence',\n",
    " 'South Carolina': 'Columbia',\n",
    " 'South Dakota': 'Pierre',\n",
    " 'Tennessee': 'Nashville',\n",
    " 'Texas': 'Austin',\n",
    " 'Utah': 'Salt Lake City',\n",
    " 'Vermont': 'Montpelier',\n",
    " 'Virginia': 'Richmond',\n",
    " 'Washington': 'Olympia',\n",
    " 'West Virginia': 'Charleston',\n",
    " 'Wisconsin': 'Madison',\n",
    " 'Wyoming': 'Cheyenne'}"
   ]
  },
  {
   "cell_type": "code",
   "execution_count": 82,
   "id": "3db52140",
   "metadata": {},
   "outputs": [
    {
     "data": {
      "text/plain": [
       "'Salem'"
      ]
     },
     "execution_count": 82,
     "metadata": {},
     "output_type": "execute_result"
    }
   ],
   "source": [
    "all_state_capitals[\"Oregon\"]"
   ]
  },
  {
   "cell_type": "markdown",
   "id": "629329d5",
   "metadata": {},
   "source": [
    "That's all the data we need to make our game! What should the algorithm look like?\n",
    "\n",
    "Well, we want to be able to think of every capital from scratch when someone names a state. \n",
    "\n",
    "But if that's our only option, we're probably going to spend a lot of time staring blankly at it. And even if you can't think of it from scratch, being able to pick it out from multiple choice is still good!\n",
    "\n",
    "\n",
    "So, let's try the following:\n",
    "1. Pick a state\n",
    "2. First, you get a chance to type the state name yourself for maximum points\n",
    "3. If you don't get that, then pick from multiple choice for fewer points."
   ]
  },
  {
   "cell_type": "markdown",
   "id": "b12deae4",
   "metadata": {},
   "source": [
    "Below, I have some skeleton code I wrote for this game, with a few parts left for you to fill in.\n",
    "\n",
    "If it says `#### ADD YOUR CODE TO FINISH THIS LINE ####` then you just need to replace that whole comment with something\n",
    "\n",
    "If it says `#### ADD YOUR CODE HERE ####`, then you can write the whole line yourself.\n",
    "\n",
    "If you read the comments right above each of those, it'll tell you what you should be trying to do there.\n",
    "\n",
    "All of these blanks \"can\" be solved in one line. But don't worry about getting the perfect solution, just start with something that works.\n",
    "\n",
    "**Remember:** Googling isn't cheating! Not at all! If you have questions on how to solve a code problem, try to solve it on your own first, but absolutely feel free to Google around. Coding isn't just about remembering all the right commands and stuff --  it's more about thinking about algorithms, and what problem you're really trying to solve. If you need some help with the \"implementation\", that's totally fine. I Google stuff all the time."
   ]
  },
  {
   "cell_type": "code",
   "execution_count": null,
   "id": "4dd3bd78",
   "metadata": {},
   "outputs": [],
   "source": [
    "from random import choice, sample, shuffle\n",
    "\n",
    "# How many rounds to play\n",
    "num_rounds = 10\n",
    "\n",
    "# How many multiple-choice options\n",
    "num_options = 4\n",
    "\n",
    "# Start their score at 0\n",
    "score = 0\n",
    "\n",
    "free_response_points = 5\n",
    "multiple_choice_points = 2\n",
    "\n",
    "all_states = list(all_state_capitals.keys())\n",
    "all_capitals = list(all_state_capitals.values())\n",
    "\n",
    "# For each round\n",
    "for game_round in range(num_rounds):\n",
    "    \n",
    "    # Pick a state to quiz you about\n",
    "    state = choice(all_states)\n",
    "    \n",
    "    # Record the correct answer, so we can check against it\n",
    "    correct_answer = #### ADD YOUR CODE TO FINISH THIS LINE ####\n",
    "    \n",
    "    # Ask the user\n",
    "    print(f\"\\nRound {game_round}!\")\n",
    "    print(f\"What is the capital of {state}?\")\n",
    "    \n",
    "    #### Step 1: Free response, for 5 points\n",
    "    free_response = input(\"Enter your answer: \")\n",
    "    \n",
    "    # Check if it was the right answer\n",
    "    if #### ADD YOUR CODE TO FINISH THIS LINE ####\n",
    "        \n",
    "        # Increment the score\n",
    "        score = #### ADD YOUR CODE TO FINISH THIS LINE ####\n",
    "        \n",
    "        # Print a congratulatory message, with the updated score\n",
    "        #### ADD YOUR CODE HERE ####\n",
    "        \n",
    "        # Don't do the multiple choice if they got it right.\n",
    "        # \"continue\" skips the rest of the for loop, and goes\n",
    "        # to the next iteration\n",
    "        continue\n",
    "    \n",
    "    \n",
    "    #### Step 2: Multiple choice, for 2 points\n",
    "    print(\"Not quite. Try multiple choice!\")\n",
    "    \n",
    "    # Pick the multiple choice options.\n",
    "    # Pick num_options - 1 choices, because we need the right answer too\n",
    "    options = sample(all_capitals, num_options-1)\n",
    "    \n",
    "    # Add the right answer to the list of choices\n",
    "    #### ADD YOUR CODE HERE ####\n",
    "    \n",
    "    # And shuffle it up so the right answer isn't always last\n",
    "    shuffle(options)\n",
    "    \n",
    "    # Now, present the user's options\n",
    "    print(\"Is it:\")\n",
    "    for (option_number, option) in enumerate(options):\n",
    "        \n",
    "        print(f\"\\t {option_number}) {option}\")\n",
    "        \n",
    "    # Get the user's choice\n",
    "    user_choice =   #### ADD YOUR CODE TO FINISH THIS LINE ####\n",
    "    \n",
    "    # Convert it from a string to an integer\n",
    "    user_choice =   #### ADD YOUR CODE TO FINISH THIS LINE ####\n",
    "    \n",
    "    # Check if they got the right answer\n",
    "    if options[user_choice] == correct_answer:\n",
    "        \n",
    "        # Increment the score\n",
    "        score = #### ADD YOUR CODE TO FINISH THIS LINE ####\n",
    "        \n",
    "        # Print a congratulatory message, with the updated score\n",
    "        #### ADD YOUR CODE HERE ####\n",
    "        \n",
    "    else:\n",
    "        print(\"Sorry, wrong answer.\")\n",
    "        \n",
    "print(f\"Your final score was {score}!\")"
   ]
  },
  {
   "cell_type": "markdown",
   "id": "984c7ee6",
   "metadata": {
    "collapsed": "true"
   },
   "source": [
    "## The answer\n",
    "\n",
    "Click the arrow to the left to expand this cell, which has my solution written out.\n",
    "\n",
    "But before you do that, really try to experiment with things. You can make a new cell and put some test code in it, to try different things out. You're not going to break anything (just try to keep a copy of the original around)"
   ]
  },
  {
   "cell_type": "markdown",
   "id": "d3179828",
   "metadata": {
    "collapsed": "true"
   },
   "source": [
    "### Do you really want to see the answer?\n",
    "\n",
    "Come on, the most fun part of a puzzle is solving it!"
   ]
  },
  {
   "cell_type": "markdown",
   "id": "4383dfcb",
   "metadata": {
    "collapsed": "true"
   },
   "source": [
    "#### Are you sure you really want to see the answer?\n",
    "\n",
    "You should really, *really* try to fight your way through this on your own, even if you have to Google some stuff. That's not cheating!"
   ]
  },
  {
   "cell_type": "markdown",
   "id": "9a5b275e",
   "metadata": {
    "collapsed": "true"
   },
   "source": [
    "##### You should really try it for yourself first\n",
    "\n",
    "I know this stuff is hard and unintuitive at first. But it's like a puzzle, and you only get good at puzzles by struggling with them a little."
   ]
  },
  {
   "cell_type": "markdown",
   "id": "c8a3da84",
   "metadata": {
    "collapsed": "true"
   },
   "source": [
    "###### If you haven't struggled with it, you're only hurting yourself\n",
    "\n",
    "You don't have to write down the right answer the very first time! And there's generally not one \"right\" way of doing things."
   ]
  },
  {
   "cell_type": "markdown",
   "id": "9abca9e0",
   "metadata": {},
   "source": [
    "If you're *sure* you're sure, click the dots below to reveal the full code."
   ]
  },
  {
   "cell_type": "code",
   "execution_count": null,
   "id": "268faa5e",
   "metadata": {
    "jupyter": {
     "source_hidden": true
    }
   },
   "outputs": [],
   "source": [
    "from random import choice, sample, shuffle\n",
    "\n",
    "# How many rounds to play\n",
    "num_rounds = 10\n",
    "\n",
    "# How many multiple-choice options\n",
    "num_options = 4\n",
    "\n",
    "# Start their score at 0\n",
    "score = 0\n",
    "\n",
    "free_response_points = 5\n",
    "multiple_choice_points = 2\n",
    "\n",
    "all_states = list(all_state_capitals.keys())\n",
    "all_capitals = list(all_state_capitals.values())\n",
    "\n",
    "# For each round\n",
    "for game_round in range(num_rounds):\n",
    "    \n",
    "    # Pick a state to quiz you about\n",
    "    state = choice(all_states)\n",
    "    correct_answer = all_state_capitals[state]\n",
    "    \n",
    "    # Ask the user\n",
    "    print(f\"\\nRound {game_round}!\")\n",
    "    print(f\"What is the capital of {state}?\")\n",
    "    \n",
    "    #### Step 1: Free response, for 5 points\n",
    "    free_response = input(\"Enter your answer: \")\n",
    "    \n",
    "    # Check if it was the right answer\n",
    "    #     TODO: How can we account for capitalization?\n",
    "    if free_response == correct_answer:\n",
    "        \n",
    "        # Increment the score\n",
    "        score = score + free_response_points\n",
    "        \n",
    "        # Print a congratulatory message\n",
    "        print(f\"Right! Good job, +5 points for a total of {score}\")\n",
    "        \n",
    "        # Don't do the multiple choice if they got it right.\n",
    "        # \"continue\" skips the rest of the for loop, and goes\n",
    "        # to the next iteration\n",
    "        continue\n",
    "    \n",
    "    \n",
    "    #### Step 2: Multiple choice, for 2 points\n",
    "    print(\"Not quite. Try multiple choice!\")\n",
    "    \n",
    "    # Pick the multiple choice options.\n",
    "    # Pick num_options - 1 choices, because we need the right answer too\n",
    "    #     TODO: How could we avoid having the right answer in here?\n",
    "    options = sample(all_capitals, num_options-1)\n",
    "    \n",
    "    # Add the right answer to the list of choices\n",
    "    options.append(correct_answer)\n",
    "    \n",
    "    # And shuffle it up so the right answer isn't always last\n",
    "    shuffle(options)\n",
    "    \n",
    "    # Now, present the user's options\n",
    "    print(\"Is it:\")\n",
    "    for (option_number, option) in enumerate(options):\n",
    "        \n",
    "        print(f\"\\t {option_number}) {option}\")\n",
    "        \n",
    "    # Get the user's choice\n",
    "    user_choice = input(\"Enter the number of your choice: \")\n",
    "    \n",
    "    # Convert it from a string to an integer\n",
    "    user_choice = int(user_choice)\n",
    "    \n",
    "    # Check if they got the right answer\n",
    "    if options[user_choice] == correct_answer:\n",
    "        \n",
    "        # Increment the score, and print a congratulatory message\n",
    "        score = score + multiple_choice_points\n",
    "        print(f\"Right! Good job, +2 points for a total of {score}\")\n",
    "        \n",
    "    else:\n",
    "        print(\"Sorry, wrong answer.\")\n",
    "        \n",
    "print(f\"Your final score was {score}!\")"
   ]
  },
  {
   "cell_type": "markdown",
   "id": "08b22475",
   "metadata": {},
   "source": [
    "## Things to play with and fix"
   ]
  },
  {
   "cell_type": "markdown",
   "id": "bb2930b7",
   "metadata": {},
   "source": [
    "The most fun part of writing code is getting something down that \"works\", and then improving it and ironing out all the little details.\n",
    "\n",
    "You might notice a few weird things in the program above, that you can think about how to fix (and actually fix!)\n",
    "\n",
    "- [ ] Why does the right answer show up twice in the multiple choice sometimes, and how can we fix that?\n",
    "- [ ] How can we make it so capitalization doesn't matter for your answer?\n",
    "\n",
    "(If you fix them, double click this text cell, change `[ ]` to `[x]`, and then run this cell and it'll mark them as completed. (Surprise, all the text you've been reading this whole time was just another type of code all along! You can't escape it! If you're curious, it's called Markdown.)"
   ]
  },
  {
   "cell_type": "markdown",
   "id": "da3206a6",
   "metadata": {},
   "source": [
    "# Mad Libs!"
   ]
  },
  {
   "cell_type": "markdown",
   "id": "2364b193",
   "metadata": {},
   "source": [
    "So now you know one way to get data from the user with `input`, a bunch of ways of storing this data, and a few ways of manipulating it.\n",
    "\n",
    "Let's take a look at how we can combine some of this to do something fun."
   ]
  },
  {
   "cell_type": "markdown",
   "id": "fe8f304e",
   "metadata": {},
   "source": [
    "You've probably all played Mad Libs, and if you haven't, it's a really simple game.\n",
    "\n",
    "You get a story with a bunch of blanks in it, and each blank is a certain type of word. Without telling you the story, one person goes through the blanks, asking you for a word of that specific type, and writing it down. Then at the end, they read you the story with your words filled in.\n",
    "\n",
    "What algorithm describes Mad Libs?\n",
    "\n",
    "<details><summary>Mad Libs algorithm</summary>\n",
    "    \n",
    "    1. Get a story\n",
    "    2. Replace a bunch of words with blanks, labeled by their word type\n",
    "    3. Go through each blank. For each blank:\n",
    "        a. Prompt the user for a word of that type\n",
    "        b. Save that word\n",
    "    4. Fill in all the blanks with those words\n",
    "    5. Read the story"
   ]
  },
  {
   "cell_type": "markdown",
   "id": "c391464e",
   "metadata": {},
   "source": [
    "We'll start by defining the story and the corresponding word types for each blank. This isn't the most interesting story in the world so feel free to play with this, add your own story with its own fields!\n",
    "\n",
    "**How to play:**\n",
    "- Write the story yourself, with the blanks in the right places, and the right number of word types in `fields`\n",
    "- Then scroll down or click the arrow to the left of \"Write the story\" to hide the story cell so the player can't see it, run the \"Play the game\" cell below, and hand it over to your friend/sibling/parent/grandparent/pet to play"
   ]
  },
  {
   "cell_type": "markdown",
   "id": "13312f7a",
   "metadata": {},
   "source": [
    "## Write the story"
   ]
  },
  {
   "cell_type": "code",
   "execution_count": 29,
   "id": "e885c83f",
   "metadata": {},
   "outputs": [],
   "source": [
    "# First, let's define the story, and the word types in each blank.\n",
    "\n",
    "#  The story is just a string. The {} indicate the blanks.\n",
    "story = \"I am a very {} {} that likes to {}.\"\n",
    "\n",
    "#  The words are stored as a \"list of lists\".\n",
    "#  Each element is the type of word, and the word itself. \n",
    "#  Since we don't have the words yet, we store them as None, which is a special variable of type NoneType. It just tells us there's nothing there.\n",
    "fields = [\n",
    "    [\"Adjective\", None],\n",
    "    [\"Noun\", None],\n",
    "    [\"Verb\", None]\n",
    "]"
   ]
  },
  {
   "cell_type": "markdown",
   "id": "81a3569a",
   "metadata": {},
   "source": [
    "## Play the game"
   ]
  },
  {
   "cell_type": "markdown",
   "id": "7d4c2b8d",
   "metadata": {},
   "source": [
    "Now, the actual Mad Libs program! Hide the cell above so the player can't see the game, and run this to play."
   ]
  },
  {
   "cell_type": "code",
   "execution_count": null,
   "id": "870e1c56",
   "metadata": {},
   "outputs": [],
   "source": [
    "# A for loop goes through each element in a list\n",
    "\n",
    "# Track which element we're at\n",
    "counter = 0\n",
    "\n",
    "for blank in fields:\n",
    "    \n",
    "    word_type = blank[0]\n",
    "    \n",
    "    prompt_string = f\"Enter a {word_type}:\"\n",
    "    \n",
    "    # Get a word from the user\n",
    "    var = input(prompt_string)\n",
    "    \n",
    "    # Replace None with the word we just got\n",
    "    fields[counter][1] = var\n",
    "    \n",
    "    counter += 1\n",
    "    \n",
    "# Get just the user-provided words, and not the labels\n",
    "words = []\n",
    "for field in fields:\n",
    "    word = field[1]\n",
    "    words.append(word)\n",
    "\n",
    "# Insert them into the story\n",
    "# The * \"unpacks\" the list -- not super important for now.\n",
    "formatted_story = story.format(*words)\n",
    "\n",
    "# Print the story\n",
    "print(formatted_story)"
   ]
  },
  {
   "cell_type": "markdown",
   "id": "5079d90b",
   "metadata": {},
   "source": [
    "## Improving this?"
   ]
  },
  {
   "cell_type": "markdown",
   "id": "a8003b2b",
   "metadata": {},
   "source": [
    "This definitely works but you might notice a few things seem a little off.\n",
    "\n",
    "For example, it'll say things like \"a adjective\" which isn't correct grammar and sounds weird.\n",
    "\n",
    "Also, all the word types are capitalized when we print them, even though they're in the middle of a sentence.\n",
    "\n",
    "Here's an improved version, which fixes both of these problems. See if you can understand how that's achieved."
   ]
  },
  {
   "cell_type": "code",
   "execution_count": null,
   "id": "05049176",
   "metadata": {},
   "outputs": [],
   "source": [
    "for i, blank in enumerate(fields):\n",
    "    \n",
    "    # Properly format the prompt string\n",
    "    prompt_string = \"Enter a\"\n",
    "    \n",
    "    # Make the \"a\" an \"an\" if the next word starts with a vowel.\n",
    "    # And convert the first letter of the next word to lowercase with .lower()\n",
    "    if blank[0][0].lower() in \"aeiou\":\n",
    "        prompt_string += \"n\"\n",
    "        \n",
    "    # Now print that prompt string\n",
    "    prompt_string += f\" {blank[0].lower()}:\"\n",
    "    \n",
    "    # Get the input word from the user\n",
    "    user_word = input(prompt_string)\n",
    "    \n",
    "    # Update the list of fields with the word we just got\n",
    "    fields[i][1] = user_word\n",
    "    \n",
    "# Get the user words\n",
    "words = [x[1] for x in fields]\n",
    "\n",
    "# Insert them into the story\n",
    "formatted_story = story.format(*words)\n",
    "\n",
    "# Print the story\n",
    "print(formatted_story)"
   ]
  },
  {
   "cell_type": "markdown",
   "id": "f90f38b2",
   "metadata": {},
   "source": [
    "# Wrap-up"
   ]
  },
  {
   "cell_type": "markdown",
   "id": "1ca243e1",
   "metadata": {},
   "source": [
    "**Hope you had fun learning this!**\n",
    "\n",
    "I had a lot of fun putting this together, and I hope it's helpful for you. There's of course tons of stuff I haven't covered, you can study programming for a lifetime.\n",
    "\n",
    "I just want you all to remember, I know learning all the syntax and how to write things is confusing and hard at first.\n",
    "\n",
    "But music isn't just about pushing the keys on a piano, and art isn't just about studying the types of different paints. You still need to know those to get good at it, but what makes it fun and beautiful is what comes out of that.\n",
    "\n",
    "Programming is just like that. I hope I've gotten to share that with you!"
   ]
  }
 ],
 "metadata": {
  "kernelspec": {
   "display_name": "Python 3",
   "language": "python",
   "name": "python3"
  },
  "language_info": {
   "codemirror_mode": {
    "name": "ipython",
    "version": 3
   },
   "file_extension": ".py",
   "mimetype": "text/x-python",
   "name": "python",
   "nbconvert_exporter": "python",
   "pygments_lexer": "ipython3",
   "version": "3.7.7"
  },
  "toc-autonumbering": true
 },
 "nbformat": 4,
 "nbformat_minor": 5
}
