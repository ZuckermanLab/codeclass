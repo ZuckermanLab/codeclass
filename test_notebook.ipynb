{
 "cells": [
  {
   "cell_type": "markdown",
   "id": "a4857915",
   "metadata": {},
   "source": [
    "# Test Notebook\n",
    "\n",
    "This is a test notebook!"
   ]
  },
  {
   "cell_type": "code",
   "execution_count": 1,
   "id": "091d01db",
   "metadata": {},
   "outputs": [],
   "source": [
    "import math"
   ]
  },
  {
   "cell_type": "markdown",
   "id": "98b6440a",
   "metadata": {},
   "source": [
    "The below code runs in 388 +- 9.2 ms per loop on a 2019 2.8GHz i7 Macbook Pro"
   ]
  },
  {
   "cell_type": "code",
   "execution_count": 2,
   "id": "dc32b678",
   "metadata": {},
   "outputs": [
    {
     "name": "stdout",
     "output_type": "stream",
     "text": [
      "388 ms ± 9.2 ms per loop (mean ± std. dev. of 7 runs, 1 loop each)\n"
     ]
    }
   ],
   "source": [
    "%%timeit\n",
    "\n",
    "my_list = []\n",
    "\n",
    "for i in range(int(1e6)):\n",
    "    \n",
    "    my_list.append(math.sqrt(i**2))"
   ]
  },
  {
   "cell_type": "code",
   "execution_count": null,
   "id": "056f1fc9",
   "metadata": {},
   "outputs": [],
   "source": []
  }
 ],
 "metadata": {
  "kernelspec": {
   "display_name": "Python 3",
   "language": "python",
   "name": "python3"
  },
  "language_info": {
   "codemirror_mode": {
    "name": "ipython",
    "version": 3
   },
   "file_extension": ".py",
   "mimetype": "text/x-python",
   "name": "python",
   "nbconvert_exporter": "python",
   "pygments_lexer": "ipython3",
   "version": "3.7.7"
  }
 },
 "nbformat": 4,
 "nbformat_minor": 5
}
